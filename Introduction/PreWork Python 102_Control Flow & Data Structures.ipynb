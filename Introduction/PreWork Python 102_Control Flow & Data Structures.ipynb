{
 "cells": [
  {
   "cell_type": "markdown",
   "metadata": {},
   "source": [
    "# the Data Science Bootcamp, PreWork<br> Python 102: Control Flow & Data Structures"
   ]
  },
  {
   "cell_type": "markdown",
   "metadata": {},
   "source": [
    "Description : PreWork, Python 102, Control Flow & Data Structures"
   ]
  },
  {
   "cell_type": "markdown",
   "metadata": {},
   "source": [
    "# <font color=\"blue\">Table of Contents</font>\n",
    "\n",
    "## Control Flow\n",
    "1. If Statements\n",
    "    * Exercises\n",
    "2. While Statements\n",
    "    * Exercises\n",
    "3. For Loop Statements\n",
    "    * Exercises\n",
    "4. Break & Continue Statements\n",
    "    * Exercises\n",
    "5. Try & Except Statements\n",
    "    * Exercises\n",
    "\n",
    "## Data Structures\n",
    "1. Lists\n",
    "    * Built-in Functions\n",
    "    * Exercises\n",
    "2. Tuples\n",
    "    * Exercises\n",
    "3. Dictionary\n",
    "    * Built-in Functions\n",
    "    * Exercises\n",
    "4. Sets\n",
    "    * Built-in Functions\n",
    "    * Exercises"
   ]
  },
  {
   "cell_type": "markdown",
   "metadata": {},
   "source": [
    "# <font color=\"red\">I. Control Flow </font>"
   ]
  },
  {
   "cell_type": "markdown",
   "metadata": {},
   "source": [
    "Python executes code in an exact top-down order.\n",
    "\n",
    "To make the program take different decisions based on different situations, you can use control flow statements.\n",
    "\n",
    "A program’s control flow is the order in which the program’s code executes. The control flow of a Python program is regulated by conditional statements, loops, and function calls."
   ]
  },
  {
   "cell_type": "markdown",
   "metadata": {},
   "source": [
    "## 1.1 If Statements\n",
    "**Python: Crash Course, Chapter 5**\n",
    "\n",
    "\n",
    "The if statement is used to check for a condition. If true, the block of code runs. <br>\n",
    "\n",
    "We can also use an __else statement__ to run if the if condition was false. <br>\n",
    "\n",
    "We can chain multiple if and else statements using __elif__. \n",
    "\n",
    "Syntax: \n",
    "\n",
    "`if expression:\n",
    "    statement(s)\n",
    "elif expression:\n",
    "    statement(s)\n",
    "elif expression:\n",
    "    statement(s)\n",
    "...\n",
    "else:\n",
    "    statement(s)`\n",
    "        \n",
    "The __elif__ and __else__ clauses are optional.\n",
    "\n",
    "For example:"
   ]
  },
  {
   "cell_type": "code",
   "execution_count": null,
   "metadata": {},
   "outputs": [],
   "source": [
    "theNumber = 0\n",
    "if theNumber > 0:\n",
    "    print(\"The number is positive\")\n",
    "elif theNumber == 0:\n",
    "    print(\"The number is zero\")\n",
    "else:\n",
    "    print(\"The number is negative\")"
   ]
  },
  {
   "cell_type": "markdown",
   "metadata": {},
   "source": [
    "### <font color=\"green\"> Exercise 1: Secret Code </font>\n",
    "Create a secret code checker. <p>\n",
    "\n",
    "Great programmers of any language create pseudo-code of their program before programming. <br>\n",
    "**Here is an example of pseudo-code for this problem:**\n",
    "0. Designate a password or your own secret code.\n",
    "    * This is a variable, called secret_code.\n",
    "1. Ask the user for the secret code.\n",
    "    1. Use raw_input(\"Phrase\") & assign it to a variable, called user_input.\n",
    "2. Check if the user's input matches with the secret code.\n",
    "    1. If it matches, print \"You got it!\"\n",
    "        * Hint: This sounds like an if-statement.\n",
    "    2. If it doesn't match, print \"Guess again!\"\n",
    "        * Hint: This sounds like an else-statement."
   ]
  },
  {
   "cell_type": "markdown",
   "metadata": {},
   "source": [
    "Follow the pseudo-code to check if the person got the secret code!"
   ]
  },
  {
   "cell_type": "code",
   "execution_count": null,
   "metadata": {},
   "outputs": [],
   "source": []
  },
  {
   "cell_type": "markdown",
   "metadata": {},
   "source": [
    "<font color=\"green\">**Checkpoint:** Why did we not need to convert the user_input into a string? How do you know?</font>"
   ]
  },
  {
   "cell_type": "code",
   "execution_count": null,
   "metadata": {},
   "outputs": [],
   "source": []
  },
  {
   "cell_type": "markdown",
   "metadata": {},
   "source": [
    "### <font color=\"green\"> Exercise 2: Grading Assignments </font>\n",
    "Create an automatic grader that prints the letter grade for an inputted score.\n",
    "* 0 - 59 = F \n",
    "* 60 - 69 = D \n",
    "* 70 - 79 = C \n",
    "* 80 - 89 = B \n",
    "* 90 - 100 = A"
   ]
  },
  {
   "cell_type": "markdown",
   "metadata": {},
   "source": [
    "Before you start coding, write pseudo-code for this problem."
   ]
  },
  {
   "cell_type": "code",
   "execution_count": null,
   "metadata": {},
   "outputs": [],
   "source": []
  },
  {
   "cell_type": "markdown",
   "metadata": {},
   "source": [
    "Follow your pseudocode!"
   ]
  },
  {
   "cell_type": "code",
   "execution_count": null,
   "metadata": {},
   "outputs": [],
   "source": [
    "grade = input(\"Enter a score: \")"
   ]
  },
  {
   "cell_type": "code",
   "execution_count": null,
   "metadata": {},
   "outputs": [],
   "source": []
  },
  {
   "cell_type": "markdown",
   "metadata": {},
   "source": [
    "<font color=\"green\"> **Checkpoint:** Why did we use input here? How is this different from raw_input? </font>"
   ]
  },
  {
   "cell_type": "code",
   "execution_count": null,
   "metadata": {},
   "outputs": [],
   "source": []
  },
  {
   "cell_type": "markdown",
   "metadata": {},
   "source": [
    "### <font color=\"green\"> Exercise 3: Crazy Cat Lover </font>\n",
    "Check to see if someone is a crazy cat lover. \n",
    "* If there are more than 3 cats, print \"They are crazy for cats!\".\n",
    "    * Unless they also have a dog, then print \"They love animals!\".\n",
    "* Otherwise print \"They aren't crazy for cats\"."
   ]
  },
  {
   "cell_type": "markdown",
   "metadata": {},
   "source": [
    "Before you start coding, write pseudo-code for this problem."
   ]
  },
  {
   "cell_type": "code",
   "execution_count": null,
   "metadata": {},
   "outputs": [],
   "source": []
  },
  {
   "cell_type": "markdown",
   "metadata": {},
   "source": [
    "Follow your pseudocode!"
   ]
  },
  {
   "cell_type": "code",
   "execution_count": null,
   "metadata": {},
   "outputs": [],
   "source": [
    "cats = input(\"Enter number of cats: \")\n",
    "dogs = input(\"Enter number of dogs: \")"
   ]
  },
  {
   "cell_type": "code",
   "execution_count": null,
   "metadata": {},
   "outputs": [],
   "source": []
  },
  {
   "cell_type": "markdown",
   "metadata": {},
   "source": [
    "### <font color=\"green\"> Exercise 4: Summer Play </font>\n",
    "The kids by the beach spend most of their day playing, but depends on the weather! <br>\n",
    "Create a code that will tell you if the children are playing. <p>\n",
    "    \n",
    "* If the temperature is between 65 & 90 (inclusively), they are playing.\n",
    "* If it is summertime, the temperature can go up to 100, they are playing.\n",
    "* If they are playing, print True.\n",
    "    * If they are not playing, print False."
   ]
  },
  {
   "cell_type": "markdown",
   "metadata": {},
   "source": [
    "Before you start coding, write pseudo-code for this problem."
   ]
  },
  {
   "cell_type": "code",
   "execution_count": null,
   "metadata": {},
   "outputs": [],
   "source": []
  },
  {
   "cell_type": "markdown",
   "metadata": {},
   "source": [
    "Follow your pseudocode!"
   ]
  },
  {
   "cell_type": "code",
   "execution_count": null,
   "metadata": {},
   "outputs": [],
   "source": [
    "temperature = input(\"Enter the temperature\")\n",
    "summer = input(\"Enter 1 for summer or 0 for not summer\")"
   ]
  },
  {
   "cell_type": "code",
   "execution_count": null,
   "metadata": {},
   "outputs": [],
   "source": []
  },
  {
   "cell_type": "markdown",
   "metadata": {},
   "source": [
    "### <font color=\"green\"> Exercise 5: Speeding Ticket </font>\n",
    "You are driving a little too fast and get pulled over by a police officer. <br>\n",
    "Write a code to determine what size ticket you'll get. <p>\n",
    "    \n",
    "* If speed is 65 or less, you will not get a ticket.\n",
    "* If speed is above 65, but below 80, you will get a small ticket.\n",
    "* If your speed is above 80, then you'll get a big ticket.\n",
    "* If it's your birthday though, you get a 5mph break - your speed can be 5 higher than the regular thresholds. \n",
    "    * You will still get a ticket."
   ]
  },
  {
   "cell_type": "markdown",
   "metadata": {},
   "source": [
    "Before you start coding, write pseudo-code for this problem."
   ]
  },
  {
   "cell_type": "code",
   "execution_count": null,
   "metadata": {},
   "outputs": [],
   "source": []
  },
  {
   "cell_type": "markdown",
   "metadata": {},
   "source": [
    "Follow your pseudocode!"
   ]
  },
  {
   "cell_type": "code",
   "execution_count": null,
   "metadata": {},
   "outputs": [],
   "source": [
    "speed = input(\"Enter your speed\")\n",
    "birthday = input(\"Enter 1 if it's your birthday or 0 if it's not\")"
   ]
  },
  {
   "cell_type": "code",
   "execution_count": null,
   "metadata": {},
   "outputs": [],
   "source": []
  },
  {
   "cell_type": "markdown",
   "metadata": {},
   "source": [
    "## 1.2 While Statements\n",
    "**Python: Crash Course, Chapter 7**\n",
    "\n",
    "The while statement allows you to execute a block of statements multiple times until a condition is met. <p>\n",
    "    \n",
    "**Note**: When using loops you need to be careful to make sure that the condition is eventually met. If the condition is never met then the loop will run forever (or at least until your computer errors out). This is called an __infinite loop__.\n",
    "\n",
    "__Syntax:__\n",
    "    \n",
    "`while expression:\n",
    "    statement(s)`\n",
    "        \n",
    "For example:"
   ]
  },
  {
   "cell_type": "code",
   "execution_count": null,
   "metadata": {},
   "outputs": [],
   "source": [
    "current_number = 1  \n",
    "\n",
    "while current_number <= 5:  \n",
    "    print('The current number is ' + str(current_number))\n",
    "    current_number += 1  \n",
    "else:\n",
    "    print('All done counting!')  "
   ]
  },
  {
   "cell_type": "markdown",
   "metadata": {},
   "source": [
    "<font color=\"green\">**Checkpoint**: Why do we need to add one to the current_number each time?</font>"
   ]
  },
  {
   "cell_type": "code",
   "execution_count": null,
   "metadata": {},
   "outputs": [],
   "source": []
  },
  {
   "cell_type": "markdown",
   "metadata": {},
   "source": [
    "### <font color=\"green\">Exercise: Use a while loop to print the numbers from 10 to 1. After 1, print \"Blastoff!\"</font>"
   ]
  },
  {
   "cell_type": "code",
   "execution_count": null,
   "metadata": {},
   "outputs": [],
   "source": []
  },
  {
   "cell_type": "markdown",
   "metadata": {},
   "source": [
    "### Troubleshoot:\n",
    "\n",
    "**If your while loop is not ending,** In[ ]: keep appearing, then select the **Kernel** from the top bar & select **Restart** to stop the loop. Fix your while loop before running the cell again."
   ]
  },
  {
   "cell_type": "markdown",
   "metadata": {},
   "source": [
    "### <font color=\"green\">Exercise: Use a while loop to print all the even numbers from 2 through 20.\"</font>"
   ]
  },
  {
   "cell_type": "code",
   "execution_count": null,
   "metadata": {},
   "outputs": [],
   "source": []
  },
  {
   "cell_type": "markdown",
   "metadata": {},
   "source": [
    "## 1.3 For Loop Statements\n",
    "**Python: Crash Course, Chapter 4, pages 53-60**\n",
    "\n",
    "The for loop is a statement that iterates over each item in a sequence (an ordered collection of items). <br>\n",
    " We can use **i** to access the current item in the sequence.\n",
    "\n",
    "__Syntax:__\n",
    "    \n",
    "`for target in iterable:\n",
    "    statement(s)`\n",
    "\n",
    "For example:"
   ]
  },
  {
   "cell_type": "code",
   "execution_count": null,
   "metadata": {},
   "outputs": [],
   "source": [
    "for i in range(1,6):\n",
    "    print('The current number is ' + str(i))\n",
    "else:\n",
    "    print('All done counting!')"
   ]
  },
  {
   "cell_type": "markdown",
   "metadata": {},
   "source": [
    "<font color=\"green\"> **Checkpoint**: What does the range() function do? When do you think this will be important to use? </font>"
   ]
  },
  {
   "cell_type": "code",
   "execution_count": null,
   "metadata": {},
   "outputs": [],
   "source": []
  },
  {
   "cell_type": "markdown",
   "metadata": {},
   "source": [
    "### <font color=\"green\"> Exercise 1: Use a for loop to print the numbers from 10 to 1. After 1, print \"Blastoff!\" </font>"
   ]
  },
  {
   "cell_type": "code",
   "execution_count": null,
   "metadata": {},
   "outputs": [],
   "source": []
  },
  {
   "cell_type": "markdown",
   "metadata": {},
   "source": [
    "### <font color=\"green\"> Exercise 2: Use a for loop to print the odd numbers from 1 through 20. </font>"
   ]
  },
  {
   "cell_type": "code",
   "execution_count": null,
   "metadata": {},
   "outputs": [],
   "source": []
  },
  {
   "cell_type": "markdown",
   "metadata": {},
   "source": [
    "<font color=\"green\">**Challenge**: Which method was better for these exercises? The While or the For Loops? </font>"
   ]
  },
  {
   "cell_type": "code",
   "execution_count": null,
   "metadata": {},
   "outputs": [],
   "source": []
  },
  {
   "cell_type": "markdown",
   "metadata": {},
   "source": [
    "## 1.4 Break & Continue Statements\n",
    "\n",
    "There are two useful statements that can be used within loops to fine-tune how they are executed:\n",
    "\n",
    "* The __break__ statement is used to stop the execution of a loop even if the condition has not been met or the sequence of items has not been fully iterated over. When breaking out of a looping statement any remaining statements will not be executed.\n",
    "* The __continue__ statement tells Python to skip the rest of the statements in the current loop block and to continue to the next iteration of the loop.\n",
    "\n",
    "These can be used in both for and while loops.\n",
    "\n",
    "**Examples see below:**"
   ]
  },
  {
   "cell_type": "code",
   "execution_count": null,
   "metadata": {},
   "outputs": [],
   "source": [
    "current_number = 1  \n",
    "\n",
    "while current_number <= 10:\n",
    "    print(\"The current number is \" + str(current_number))\n",
    "    if current_number ==5:  \n",
    "        break\n",
    "    current_number += 1  "
   ]
  },
  {
   "cell_type": "code",
   "execution_count": null,
   "metadata": {},
   "outputs": [],
   "source": [
    "#for loop breaking example\n",
    "for i in range(1, 11):\n",
    "    print(\"The current number is \" + str(i))\n",
    "    if i == 5:\n",
    "        break"
   ]
  },
  {
   "cell_type": "markdown",
   "metadata": {},
   "source": [
    "<font color=\"green\"> **Checkpoint:** Pick any of the above examples of loops you have done. Create a **break** in your chosen example. </font>"
   ]
  },
  {
   "cell_type": "code",
   "execution_count": null,
   "metadata": {},
   "outputs": [],
   "source": []
  },
  {
   "cell_type": "code",
   "execution_count": null,
   "metadata": {},
   "outputs": [],
   "source": [
    "# for loop continue example\n",
    "for i in range(1, 11):  \n",
    "    if i == 5:  \n",
    "        continue\n",
    "    print('The current number is ' + str(i))\n",
    "print(\"We've skipped number 5!\")"
   ]
  },
  {
   "cell_type": "code",
   "execution_count": null,
   "metadata": {},
   "outputs": [],
   "source": [
    "for n in range(20):\n",
    "    # if the remainder of n / 2 is 0, skip the rest of the loop\n",
    "    if n % 2 == 0:\n",
    "        continue\n",
    "    print(n, end=' ')"
   ]
  },
  {
   "cell_type": "markdown",
   "metadata": {},
   "source": [
    "<font color=\"green\"> **Checkpoint:** Pick any of the above examples of loops you have done. Create a **continue** in your chosen example. </font>"
   ]
  },
  {
   "cell_type": "code",
   "execution_count": null,
   "metadata": {},
   "outputs": [],
   "source": []
  },
  {
   "cell_type": "code",
   "execution_count": null,
   "metadata": {},
   "outputs": [],
   "source": [
    "for i in range(20, 0, -2):\n",
    "    if i == 4:\n",
    "        break\n",
    "    if i == 12:\n",
    "        continue\n",
    "    print('The current number is ' + str(i))\n",
    "else:\n",
    "    print('Blastoff!')"
   ]
  },
  {
   "cell_type": "markdown",
   "metadata": {},
   "source": [
    "<font color=\"green\"> **Challenge**: Pick a different example than what you can picked & create both **a continue & a break** point in the example."
   ]
  },
  {
   "cell_type": "code",
   "execution_count": null,
   "metadata": {},
   "outputs": [],
   "source": []
  },
  {
   "cell_type": "markdown",
   "metadata": {},
   "source": [
    "## 1.5 Try & Except Statements\n",
    "\n",
    "**Python: Crash Course, Chapter 10, pages 200-207**\n",
    "\n",
    "__Exceptions__ occur when exceptional situations, thus the name, like trying to read from a file that doesn't exist, a variable that doesn't exist, or a user input isn't in the correct type. <br> \n",
    "\n",
    "We can handle exceptions with a __try/except__ statement. \n",
    "\n",
    "The basic syntax is: \n",
    "\n",
    "__`try: \n",
    "    statement(s)\n",
    "except: [, target]]\n",
    "    statement(s)\n",
    "else: \n",
    "    statement(s)`__\n",
    "    \n",
    "The else statement is optional. \n",
    "\n",
    "**Examples see below:**"
   ]
  },
  {
   "cell_type": "code",
   "execution_count": null,
   "metadata": {},
   "outputs": [],
   "source": [
    "x, y = 5, 0\n",
    "try:\n",
    "    z = x / y\n",
    "except:\n",
    "    print(\"Division by zero!\")\n",
    "else:\n",
    "    print('No division by zero, the result is', z)"
   ]
  },
  {
   "cell_type": "code",
   "execution_count": null,
   "metadata": {
    "scrolled": true
   },
   "outputs": [],
   "source": [
    "my_list = [1, 2, 3]\n",
    "try:\n",
    "    my_list[99]\n",
    "except IndexError:\n",
    "    print('index error')\n",
    "except ValueError:\n",
    "    print('value error')"
   ]
  },
  {
   "cell_type": "markdown",
   "metadata": {},
   "source": [
    "# <font color=\"red\"> II. Data Structures </font>\n",
    "\n",
    "__Data Structures__ are used to store a collection of related data. The built-in data structures in Python are: \n",
    "* List\n",
    "* Tuple\n",
    "* Dictionary\n",
    "* Set"
   ]
  },
  {
   "cell_type": "markdown",
   "metadata": {},
   "source": [
    "## 2.1 List\n",
    "**Python: Crash Course, Chapter 3-4**\n",
    "\n",
    "A __list__ is a __mutable__ (meaning it can be changed after its creation) data structure which holds a sequence of items in a specific order. <br>\n",
    "\n",
    "Square brackets [ ] are used as the notation for a list. <br>\n",
    "\n",
    "Once a list is created, you can add, remove, or search in the list. <br>\n",
    "\n",
    "The items in the list can be of any type, including other data structures. Duplicated members are allowed. Numbers, strings, lists, tuples, dictionaries, and sets can all be included in a list. <br>\n",
    "\n",
    "The syntax for a list is: \n",
    "\n",
    "__`my_list = ['a', 1, 2.5, [1,2,3], 'etc']`__"
   ]
  },
  {
   "cell_type": "code",
   "execution_count": null,
   "metadata": {},
   "outputs": [],
   "source": [
    "my_list = ['a', 1, 2.5, [1,2,3], 'etc']\n",
    "print(my_list)"
   ]
  },
  {
   "cell_type": "markdown",
   "metadata": {},
   "source": [
    "### 2.1.1 Access Items within the List\n",
    "Access the list items by referring to the index number.\n",
    "**Reminder:** Python is zero-based, which means that the first item in a list is index 0. "
   ]
  },
  {
   "cell_type": "code",
   "execution_count": null,
   "metadata": {},
   "outputs": [],
   "source": [
    "print(my_list[0])\n",
    "print(my_list[3])"
   ]
  },
  {
   "cell_type": "markdown",
   "metadata": {},
   "source": [
    "You can also index from the back of a list.\n",
    "\n",
    "The index -1 will give the last item in a list & -2 would give the second to last item in a list."
   ]
  },
  {
   "cell_type": "code",
   "execution_count": null,
   "metadata": {},
   "outputs": [],
   "source": [
    "print(my_list[-1])\n",
    "print(my_list[-2])"
   ]
  },
  {
   "cell_type": "markdown",
   "metadata": {},
   "source": [
    "### 2.1.2 Change Item Value\n",
    "You can update the value of an item in a list by assigning the new value."
   ]
  },
  {
   "cell_type": "code",
   "execution_count": null,
   "metadata": {},
   "outputs": [],
   "source": [
    "my_list[-1] = 'apple'\n",
    "my_list"
   ]
  },
  {
   "cell_type": "markdown",
   "metadata": {},
   "source": [
    "### 2.1.3 Add Items\n",
    "Add an item to a list using __append__."
   ]
  },
  {
   "cell_type": "code",
   "execution_count": null,
   "metadata": {},
   "outputs": [],
   "source": [
    "my_list.append('cookies')\n",
    "my_list"
   ]
  },
  {
   "cell_type": "markdown",
   "metadata": {},
   "source": [
    "### 2.1.4 Remove Item\n",
    "You can remove items from a list using either __del__ or the __remove__ method. <br>\n",
    "\n",
    "You can use `del` if you know the index of the item you want to remove."
   ]
  },
  {
   "cell_type": "code",
   "execution_count": null,
   "metadata": {},
   "outputs": [],
   "source": [
    "del my_list[0]\n",
    "print(my_list)"
   ]
  },
  {
   "cell_type": "markdown",
   "metadata": {},
   "source": [
    "You can use the `remove` method if you don't know the index of the item you want to remove."
   ]
  },
  {
   "cell_type": "code",
   "execution_count": null,
   "metadata": {},
   "outputs": [],
   "source": [
    "my_list.remove('apple')\n",
    "print(my_list)"
   ]
  },
  {
   "cell_type": "markdown",
   "metadata": {},
   "source": [
    "<font color=\"green\"> **Checkpoint**: When do we use **del** vs when do we use **remove**?</font>"
   ]
  },
  {
   "cell_type": "code",
   "execution_count": null,
   "metadata": {},
   "outputs": [],
   "source": []
  },
  {
   "cell_type": "markdown",
   "metadata": {},
   "source": [
    "### 2.1.5 Length of List\n",
    "To determine how many items a list has, use the `len()` method."
   ]
  },
  {
   "cell_type": "code",
   "execution_count": null,
   "metadata": {},
   "outputs": [],
   "source": [
    "len(my_list)"
   ]
  },
  {
   "cell_type": "markdown",
   "metadata": {},
   "source": [
    "### 2.1.6 Sort the List\n",
    "You can sort the items in a list using the __sort__ method.\n",
    "\n",
    "You can reverse the items in a list using the __reverse__ method."
   ]
  },
  {
   "cell_type": "code",
   "execution_count": null,
   "metadata": {},
   "outputs": [],
   "source": [
    "my_list.reverse()\n",
    "print(my_list)"
   ]
  },
  {
   "cell_type": "markdown",
   "metadata": {},
   "source": [
    "### 2.1.7 Loop Through a List\n",
    "You can also iterate over the items in a list. <br>\n",
    "The syntax is: \n",
    "\n",
    "__`for item in my_list:\n",
    "    print(item)`__"
   ]
  },
  {
   "cell_type": "code",
   "execution_count": null,
   "metadata": {},
   "outputs": [],
   "source": [
    "for item in my_list:\n",
    "    print(item)"
   ]
  },
  {
   "cell_type": "markdown",
   "metadata": {},
   "source": [
    "### <font color=\"green\"> Exercise 1: Weekends </font>\n",
    "\n",
    "Use a for loop to iterate over the days of the week (hint: save them in a list)! <br> \n",
    "* If the day is a weekend (Saturday or Sunday), print the day and \"A chance to sleep in!\"\n",
    "* If it's a weekday print the day and \"Off to work.\"\n",
    "    * but if it's Friday, you should also print \"Ready for the weekend!\""
   ]
  },
  {
   "cell_type": "markdown",
   "metadata": {},
   "source": [
    "Before you start coding, write pseudo-code for this problem."
   ]
  },
  {
   "cell_type": "code",
   "execution_count": null,
   "metadata": {},
   "outputs": [],
   "source": []
  },
  {
   "cell_type": "markdown",
   "metadata": {},
   "source": [
    "Follow your pseudocode!"
   ]
  },
  {
   "cell_type": "code",
   "execution_count": null,
   "metadata": {},
   "outputs": [],
   "source": []
  },
  {
   "cell_type": "markdown",
   "metadata": {},
   "source": [
    "### <font color=\"green\"> Exercise 2: Fizz Buzz </font>\n",
    "\n",
    "Use a loop to iterate over the the numbers from 1 to 30. <br>\n",
    "Print each of the numbers, but these criteria:\n",
    "* If the number is a multiple of 3, print Fizz instead. \n",
    "* If the number is a multiple of 5, print Buzz instead. \n",
    "* If the number is a multiple of both 3 and 5, print FizzBuzz instead."
   ]
  },
  {
   "cell_type": "markdown",
   "metadata": {},
   "source": [
    "Before you start coding, write pseudo-code for this problem."
   ]
  },
  {
   "cell_type": "code",
   "execution_count": null,
   "metadata": {},
   "outputs": [],
   "source": []
  },
  {
   "cell_type": "markdown",
   "metadata": {},
   "source": [
    "Follow your pseudocode!"
   ]
  },
  {
   "cell_type": "code",
   "execution_count": null,
   "metadata": {},
   "outputs": [],
   "source": []
  },
  {
   "cell_type": "markdown",
   "metadata": {},
   "source": [
    "## 2.2 Tuples \n",
    "**Python: Crash Course, Chapter 3, pages 69-71**\n",
    "\n",
    "A __tuple__ is an immutable (it cannot be changed after its creation) data structure similar to a list, but with less functionality. <br>\n",
    "\n",
    "A tuple can be represented by a series of items seperated by commas with an optional pair of paranthesis. The preferred method is to use paranthesis."
   ]
  },
  {
   "cell_type": "code",
   "execution_count": null,
   "metadata": {},
   "outputs": [],
   "source": [
    "my_tuple = (2, 3, 4, 'string')\n",
    "print(my_tuple)"
   ]
  },
  {
   "cell_type": "markdown",
   "metadata": {},
   "source": [
    "To access a tuple item you would use its index in the same way as a list. <br>\n",
    "For example: \n",
    "\n",
    "__`my_tuple[0]`__"
   ]
  },
  {
   "cell_type": "code",
   "execution_count": null,
   "metadata": {},
   "outputs": [],
   "source": [
    "my_tuple[0]"
   ]
  },
  {
   "cell_type": "markdown",
   "metadata": {},
   "source": [
    "<font color=\"green\"> **Challenge**: In what scenarios would you use an immutable object like tuples? </font>"
   ]
  },
  {
   "cell_type": "code",
   "execution_count": null,
   "metadata": {},
   "outputs": [],
   "source": []
  },
  {
   "cell_type": "markdown",
   "metadata": {},
   "source": [
    "## 2.3 Dictionary\n",
    "**Python: Crash Course, Chapter 6**\n",
    "\n",
    "A __dictionary__ is a way to store key / value pairs. It is a collection which is unordered, changeable and indexed. <br>\n",
    "\n",
    "Dictionaries are commonly used to store multiple details about a piece of data. For example, we might store information about people in a dictionary. <br>\n",
    "\n",
    "**The key** might be their name, and **the value** might be another dictionary with keys and values for their for their occupation, telephone number, family members, etc. \n",
    "\n",
    "__Keys__ must be unique and you can only use immutable objects (like strings), but the __values__ can be any type, including strings, numbers, lists, tuples, and even other dictionaries. \n",
    "\n",
    "Dictionary notation uses curly brackets, the key-value pairs are separated by a colon, and the pairs are separated by commas. \n",
    "\n",
    "The syntax to make a dictionary is: \n",
    "\n",
    "__`myDictionary = {'key1': 'value1', 'key2': 'value2', 'key3': 'value3'}\n",
    "myDictionary`__"
   ]
  },
  {
   "cell_type": "code",
   "execution_count": null,
   "metadata": {},
   "outputs": [],
   "source": [
    "myDictionary = {'key1': 'value1', 'key2': 'value2', 'key3': 'value3'}\n",
    "myDictionary"
   ]
  },
  {
   "cell_type": "markdown",
   "metadata": {},
   "source": [
    "### 2.3.1 Accessng Items in List\n",
    "To access a dictionary you use the square bracket notation with the key name. "
   ]
  },
  {
   "cell_type": "code",
   "execution_count": null,
   "metadata": {},
   "outputs": [],
   "source": [
    "myDictionary['key1']"
   ]
  },
  {
   "cell_type": "markdown",
   "metadata": {},
   "source": [
    "**But you need to be careful to make sure that the key is in the dictionary;**<br> \n",
    "if the key is not in the dictionary a KeyError will occur."
   ]
  },
  {
   "cell_type": "code",
   "execution_count": null,
   "metadata": {},
   "outputs": [],
   "source": [
    "myDictionary['key5']"
   ]
  },
  {
   "cell_type": "markdown",
   "metadata": {},
   "source": [
    "### 2.3.2 Check if Key Exists\n",
    "You can catch these errors by first checking if the key is in the dictionary. For example: "
   ]
  },
  {
   "cell_type": "code",
   "execution_count": null,
   "metadata": {},
   "outputs": [],
   "source": [
    "if 'key4' in myDictionary:\n",
    "    myDictionary['key4']\n",
    "else: \n",
    "    print(\"No key4 in dictionary\")"
   ]
  },
  {
   "cell_type": "code",
   "execution_count": null,
   "metadata": {},
   "outputs": [],
   "source": [
    "'key4' in myDictionary"
   ]
  },
  {
   "cell_type": "markdown",
   "metadata": {},
   "source": [
    "### 2.3.3 Adding Items\n",
    "You can add an item to a dictionary using the syntax:"
   ]
  },
  {
   "cell_type": "code",
   "execution_count": null,
   "metadata": {},
   "outputs": [],
   "source": [
    "myDictionary['key4'] = 'value4'"
   ]
  },
  {
   "cell_type": "markdown",
   "metadata": {},
   "source": [
    "### 2.3.4 Updating Values\n",
    "You can change the value of an item that is already in a dictionary:"
   ]
  },
  {
   "cell_type": "code",
   "execution_count": null,
   "metadata": {},
   "outputs": [],
   "source": [
    "myDictionary['key4'] = 'value_number_four'"
   ]
  },
  {
   "cell_type": "markdown",
   "metadata": {},
   "source": [
    "### 2.3.5 Removing Items\n",
    "You can delete an item from a dictionary"
   ]
  },
  {
   "cell_type": "code",
   "execution_count": null,
   "metadata": {},
   "outputs": [],
   "source": [
    "del myDictionary['key4']"
   ]
  },
  {
   "cell_type": "markdown",
   "metadata": {},
   "source": [
    "### 2.3.6 Length of a Dictionary\n",
    "Find the count of key-value pairs in the dictionary using the syntax: <br>__`len(myDictionary)`__"
   ]
  },
  {
   "cell_type": "code",
   "execution_count": null,
   "metadata": {},
   "outputs": [],
   "source": [
    "len(myDictionary)"
   ]
  },
  {
   "cell_type": "markdown",
   "metadata": {},
   "source": [
    "### 2.3.7 Loop Through a Dictionary\n",
    "You can iterate over the key-value pairs in the dictionary by using the items() method, which returns a list of tuples in which each tuple is a key-value pair. The syntax is: \n",
    "\n",
    "__`for key, value in myDictionary.items():\n",
    "    print(key, value)`__"
   ]
  },
  {
   "cell_type": "code",
   "execution_count": null,
   "metadata": {},
   "outputs": [],
   "source": [
    "for key, value in myDictionary.items():\n",
    "    print(key, value)"
   ]
  },
  {
   "cell_type": "markdown",
   "metadata": {},
   "source": [
    "## 2.4 Set\n",
    "\n",
    "__Sets__ are **unordered** collections of simple objects and are used when the existence of an object in a collection is more important than the order or how many times it occurs. <br>\n",
    "\n",
    "Using sets you can test for membership, find set intersection, etc. *It follows the basic set theory mathematics.*\n",
    "\n",
    "To create a set use the syntax: \n",
    "\n",
    "__`mySet = set([2,1,3,4,4,4,2])\n",
    "mySet`__\n",
    "\n",
    "Note: A set will take a list of objects and it will remove duplicates then sort it."
   ]
  },
  {
   "cell_type": "code",
   "execution_count": null,
   "metadata": {},
   "outputs": [],
   "source": [
    "mySet = set([2,1,3,4,4,2])\n",
    "mySet"
   ]
  },
  {
   "cell_type": "markdown",
   "metadata": {},
   "source": [
    "### Basic Methods and Built-in Functions for Sets\n",
    "First, create two sets with the following syntax: \n",
    "\n",
    "__`countries1 = set(['brazil', 'russia', 'india', 'china', 'france'])\n",
    "countries2 = set(['italy', 'france', 'south africa', 'china', 'mongolia'])`__"
   ]
  },
  {
   "cell_type": "code",
   "execution_count": null,
   "metadata": {},
   "outputs": [],
   "source": [
    "countries1 = set(['brazil', 'russia', 'india', 'china', 'france'])\n",
    "countries2 = set(['italy', 'france', 'south africa', 'china', 'mongolia'])"
   ]
  },
  {
   "cell_type": "markdown",
   "metadata": {},
   "source": [
    "You can test for membership of an item in the set using the syntax: <br> __`'france' in countries1`__"
   ]
  },
  {
   "cell_type": "code",
   "execution_count": null,
   "metadata": {},
   "outputs": [],
   "source": [
    "'france' in countries1"
   ]
  },
  {
   "cell_type": "markdown",
   "metadata": {},
   "source": [
    "You can add items to a set using the syntax: <br>__`countries1.add('australia')`__"
   ]
  },
  {
   "cell_type": "code",
   "execution_count": null,
   "metadata": {},
   "outputs": [],
   "source": [
    "countries1.add('australia')"
   ]
  },
  {
   "cell_type": "markdown",
   "metadata": {},
   "source": [
    "You can remove an item from a set using the syntax: <br> __`countries1.remove('france')`__"
   ]
  },
  {
   "cell_type": "code",
   "execution_count": null,
   "metadata": {},
   "outputs": [],
   "source": [
    "countries1.remove('france')"
   ]
  },
  {
   "cell_type": "markdown",
   "metadata": {},
   "source": [
    "You can find the intersection between two sets using the syntax: <br> __`countries1.intersection(countries2)`__"
   ]
  },
  {
   "cell_type": "code",
   "execution_count": null,
   "metadata": {},
   "outputs": [],
   "source": [
    "countries1.intersection(countries2)"
   ]
  },
  {
   "cell_type": "markdown",
   "metadata": {},
   "source": [
    "You can find the difference between two sets using the syntax: <br> __`countries1.difference(countries2)`__ <br> __`countries2.difference(countries1)`__"
   ]
  },
  {
   "cell_type": "code",
   "execution_count": null,
   "metadata": {},
   "outputs": [],
   "source": [
    "countries1.difference(countries2)\n",
    "countries2.difference(countries1)"
   ]
  },
  {
   "cell_type": "markdown",
   "metadata": {},
   "source": [
    "You can find the union between two sets using the syntax: <br>\n",
    "__`countries1.union(countries2)`__"
   ]
  },
  {
   "cell_type": "code",
   "execution_count": null,
   "metadata": {},
   "outputs": [],
   "source": [
    "countries1.union(countries2)"
   ]
  },
  {
   "cell_type": "markdown",
   "metadata": {},
   "source": [
    "We can also represent the above set operations through a symplified syntax as follows: <br>\n",
    "__`print('Intersection: ', countries1 & countries2)\n",
    "print('Difference: ', countries1 - countries2)\n",
    "print('Union: ', countries1 | countries2)`__"
   ]
  },
  {
   "cell_type": "code",
   "execution_count": null,
   "metadata": {},
   "outputs": [],
   "source": [
    "print('Intersection: ', countries1 & countries2)\n",
    "print('Difference: ', countries1 - countries2)\n",
    "print('Union: ', countries1 | countries2)"
   ]
  },
  {
   "cell_type": "markdown",
   "metadata": {},
   "source": [
    "<font color=\"green\">**Checkpoint:** When do you think we will use a set vs a dictionary?</font>"
   ]
  },
  {
   "cell_type": "code",
   "execution_count": null,
   "metadata": {},
   "outputs": [],
   "source": []
  }
 ],
 "metadata": {
  "anaconda-cloud": {},
  "kernelspec": {
   "display_name": "Python 3 (ipykernel)",
   "language": "python",
   "name": "python3"
  },
  "language_info": {
   "codemirror_mode": {
    "name": "ipython",
    "version": 3
   },
   "file_extension": ".py",
   "mimetype": "text/x-python",
   "name": "python",
   "nbconvert_exporter": "python",
   "pygments_lexer": "ipython3",
   "version": "3.9.12"
  }
 },
 "nbformat": 4,
 "nbformat_minor": 1
}
