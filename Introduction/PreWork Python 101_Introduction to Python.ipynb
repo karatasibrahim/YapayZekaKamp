{
 "cells": [
  {
   "cell_type": "markdown",
   "metadata": {},
   "source": [
    "# the Data Science Bootcamp, PreWork<br> Python 101: Introduction to Python"
   ]
  },
  {
   "cell_type": "markdown",
   "metadata": {},
   "source": []
  },
  {
   "cell_type": "markdown",
   "metadata": {},
   "source": [
    "# <font color=\"blue\">Table of Contents</font>\n",
    "\n",
    "## Crash Course in Jupyter Notebook\n",
    "* What is Jupyter Notebook\n",
    "* Why are we using Jupyter Notebook\n",
    "* How to use Cells in Jupyter Notebook\n",
    "    * Code cell\n",
    "    * Markdown cell\n",
    "* Commonly Used Tools from the Toolbar\n",
    "\n",
    "## Introduction to Python\n",
    "* Why Python\n",
    "* Pros & Cons of Python vs R\n",
    "        \n",
    "## Coding in Python\n",
    "* Comments\n",
    "* Variables\n",
    "    * Variable naming rules\n",
    "    * Declare a variable\n",
    "* Numbers\n",
    "    * int\n",
    "    * float\n",
    "    * complex\n",
    "* Strings\n",
    "    * Notations\n",
    "    * Manipulations\n",
    "* Literal Constants\n",
    "* Operators\n",
    "    * Arithmetic operators\n",
    "    * Comparison operators\n",
    "    * Logical operators"
   ]
  },
  {
   "cell_type": "markdown",
   "metadata": {},
   "source": [
    "# <font color=\"red\">I. Crash Course in Jupyter Notebook </font>"
   ]
  },
  {
   "cell_type": "markdown",
   "metadata": {},
   "source": [
    "## 1.1 What is Jupyter Notebook?\n",
    "\n",
    "The Jupyter Notebook is an open-source web application that allows you to create and share documents that contain live code, equations, visualizations and narrative text. \n",
    "\n",
    "This file you are running is a Jupyter Notebook, which uses your default browser, like Chrome or Firefox, as the medium to display information like this. \n",
    "\n",
    "Jupyter Notebook can be used for many things: it can run R or Julia code and has a terminal (or command prompt) option as well. We'll be using it to run Python code. You can also use it to take notes using Markdown, a language that formats your texts."
   ]
  },
  {
   "cell_type": "markdown",
   "metadata": {},
   "source": [
    "## 1.2 Why are we using Jupyter Notebook?\n",
    "\n",
    "This is best for Python prototyping for future machine learning / data science scripts, letting faculty and students weave together computational information (code, data, statistics) with narrative, multimedia, and graphs. \n",
    "\n",
    "Faculty can use it to set up interactive textbooks, full of explanations and examples which students can test out right from their browsers. Students can use it to explain their reasoning, show their work, and draw connections between their classwork and the world outside. Scientists, journalists, and researchers can use it to open up their data, share the stories behind their computations, and enable future collaboration and innovation."
   ]
  },
  {
   "cell_type": "markdown",
   "metadata": {},
   "source": [
    "## 1.3 How to use Jupyter Notebook Cells\n",
    "A Jupyter Notebook is comprised of cells, which are boxes. You can double click on a cell to edit it.\n",
    "\n",
    "To run the code in a cell you can press __SHIFT__ and __ENTER__ at the same time, or you can press the **Run** button above in the menu bar. "
   ]
  },
  {
   "cell_type": "markdown",
   "metadata": {},
   "source": [
    "### 1.3.1 Code Cell"
   ]
  },
  {
   "cell_type": "markdown",
   "metadata": {},
   "source": [
    "By default a cell is set up for code. If a cell is in code mode you'll see __In [ ]:__ to the left of the code. <br>\n",
    "\n",
    "When you run the cell, the line number will have __[\\*]__ while it is processing. <br> \n",
    "\n",
    "When it is done processing, a line number will appear, for example __In [1]:__ <br> \n",
    "\n",
    "**Run the cell below to see the line number:**"
   ]
  },
  {
   "cell_type": "code",
   "execution_count": null,
   "metadata": {},
   "outputs": [],
   "source": [
    "print('Hello World')"
   ]
  },
  {
   "cell_type": "markdown",
   "metadata": {},
   "source": [
    "**Cells are editable!** If you need to edit a code cell, just click inside the cell and make your changes.<br>\n",
    "\n",
    "Remember to then run the cell again for the changes to take effect. <br>\n",
    "\n",
    "#### Change the above cell to say 'Hello Data Scientist' instead of 'Hello World'. \n",
    "\n",
    "You should see the line number of the cell change from 1 to 2. <br>"
   ]
  },
  {
   "cell_type": "markdown",
   "metadata": {},
   "source": [
    "### 1.3.2 Markdown Cell\n",
    "To change a cell to Markdown language, choose **'Markdown'** from the dropdown in the header of the Juypter Notebook. <br>\n",
    "\n",
    "Enter your notes (using Markdown for extra capabilities) then run the cell to display. <br>\n",
    "\n",
    "To edit a Markdown cell, double click on the cell then make your changes. <br>\n",
    "\n",
    "### <font color=\"green\">Edit the cell below to see how Markdown is formed:</font>"
   ]
  },
  {
   "cell_type": "markdown",
   "metadata": {},
   "source": [
    "Make headers by adding hashtags & a space before the text.\n",
    "# Header with one hashtag\n",
    "## Subheader with two hashtags\n",
    "### Subsubheader with three hashtags\n",
    "#### Subsubsubheader with four hashtags\n",
    "\n",
    "Type as usual for regular text. \n",
    "\n",
    "*Use single asterisks for italics.* <br>\n",
    "_Use single underscores for italics_. <p>\n",
    "\n",
    "**Use double asterisks for bold.** <br>\n",
    "__Use double underscores for bold.__ <p>\n",
    "\n",
    "_You **can** combine them_. <p>\n",
    "\n",
    "Make an unordered list using left asterisks: \n",
    "\n",
    "* Item 1\n",
    "* Item 2\n",
    "  * Item 2a\n",
    "  * Item 2b\n",
    "  \n",
    "Or an ordered list with numering: \n",
    "\n",
    "1. Item 1\n",
    "1. Item 2\n",
    "1. Item 3\n",
    "   1. Item 3a\n",
    "   1. Item 3b\n",
    "   \n",
    "You can add links by adding brackets & parantheses:<br>\n",
    "[This link has more markdown tips!](https://guides.github.com/features/mastering-markdown/)"
   ]
  },
  {
   "cell_type": "markdown",
   "metadata": {},
   "source": [
    "### Example of Use of Markdown in Class Notes\n",
    "## <font color = 'orange'>K-Nearest Neighbors</font>\n",
    "* Classification Algorithm\n",
    "* **Requirements:**\n",
    "    1. There is a measurable distance (calculated by vectors) between points created by data.\n",
    "        * This can be any distance, such as the regular Euclidean distance, A<sup>2</sup> + B<sup>2</sup> = C<sup>2</sup>, or the Pythagorean Formula.\n",
    "            * **WHY IS THIS TRUE????**\n",
    "    2. Every vector ideally has a label.\n",
    "        * This is because K-Nearest Neighbors is a supervised learning method & required labels.\n",
    "    3. K is given.\n",
    "        * The single human input is the number of neighbors to consider before classifying.\n",
    "        * *HOW DO WE CALCULATE K????*\n",
    "* **WHAT DOES THIS MODEL AFTER?????**"
   ]
  },
  {
   "cell_type": "markdown",
   "metadata": {},
   "source": [
    "## 1.4 Commonly Used Tools from the Toolbar: \n",
    "* You can add more cells by pressing the __PLUS__ button above. \n",
    "* You can cut a cell by clicking on the __SCISSORS__ button above. \n",
    "* You can copy a cell by clicking on the __COPY__ button above. \n",
    "* You can paste a cut or copied cell by clicking on the __PASTE__ button above. "
   ]
  },
  {
   "cell_type": "markdown",
   "metadata": {},
   "source": [
    "# <font color=\"red\">II. Introduction to Python </font>"
   ]
  },
  {
   "cell_type": "markdown",
   "metadata": {},
   "source": [
    "## 2.1 Why Python?\n",
    "theDevMasters has chosen Python as the main tool taught by instructors for data science, because:\n",
    "* Python is truly a scripting language; you can create projects end-to-end without leaving Python.\n",
    "* Python is open source; there are no hidden fees or extra software to download.\n",
    "* Python has an awesome online community that you can learn from and contribute to."
   ]
  },
  {
   "cell_type": "markdown",
   "metadata": {},
   "source": [
    "## 2.2 Pros & Cons of Python vs R\n",
    "R and Python are the two most popular programming languages used by data analysts and data scientists. Both are free and and open source, and were developed in the early 1990s—R for statistical analysis and Python as a general-purpose programming language.\n",
    "\n",
    "[This is a great short blog to highlight the best.](https://www.kdnuggets.com/2015/05/r-vs-python-data-science.html)"
   ]
  },
  {
   "cell_type": "markdown",
   "metadata": {},
   "source": [
    "<font color=\"green\">**Q: List the most interesting pros and/or cons that you read in the blog about why we should use Python instead of R.**</font>\n"
   ]
  },
  {
   "cell_type": "markdown",
   "metadata": {},
   "source": []
  },
  {
   "cell_type": "markdown",
   "metadata": {},
   "source": [
    "To further increase your abilities to utilize open source data science skills, you will be expected to grasp R in a project during Project Based Learning."
   ]
  },
  {
   "cell_type": "markdown",
   "metadata": {},
   "source": [
    "# <font color=\"red\">III. Coding in Python </font>"
   ]
  },
  {
   "cell_type": "markdown",
   "metadata": {},
   "source": [
    "## 3.1 Comments\n",
    "**Python: Crash Course, Chapter 2, pages 33-34.**\n",
    "\n",
    "Python has commenting capability for the purpose of in-code documentation.<br>\n",
    "\n",
    "Comments start with a `#`, and Python will render the rest of the line as a comment. (Note: this is for when your cells are in Code format.) <br> \n",
    "\n",
    "Comments are ignored by the computer when the code is run. <br>\n",
    "\n",
    "These are useful for making notes on what portion of the code is doing and why is it doing it."
   ]
  },
  {
   "cell_type": "markdown",
   "metadata": {},
   "source": [
    "### 3.1.1 Creat a Comment\n",
    "Here's an example how you can create comments with `#`:"
   ]
  },
  {
   "cell_type": "code",
   "execution_count": null,
   "metadata": {
    "scrolled": true
   },
   "outputs": [],
   "source": [
    "# You can tell something is a comment when it is in an italized format.\n",
    "print('Hello Python Programmer!') # This is the print function. It is heavily used for marking checkpoints in functions."
   ]
  },
  {
   "cell_type": "markdown",
   "metadata": {},
   "source": [
    "### 3.1.2 Multi Line Comments\n",
    "To add multi line comments in Python, you can insert a # for each line, or just add a multiline string (triple quotes) in your code, and place your comment inside it:"
   ]
  },
  {
   "cell_type": "code",
   "execution_count": null,
   "metadata": {},
   "outputs": [],
   "source": [
    "\"\"\"\n",
    "This is a comment\n",
    "written in \n",
    "more than just one line\n",
    "\"\"\"\n",
    "print(\"Hello, World!\")"
   ]
  },
  {
   "cell_type": "markdown",
   "metadata": {},
   "source": [
    "## 3.2 Variables\n",
    "**Python: Crash Course, Chapter 2, pages 20-27**\n",
    "\n",
    "**Variables** are used for storing and manipulating information. Their value can vary, which means that the value can change. You can store anything using a variable. They are given names that are used to access their values.\n",
    "\n",
    "Unlike other programming languages, Python has no command for declaring a variable.\n",
    "\n",
    "A variable is created the moment you first assign a value to it."
   ]
  },
  {
   "cell_type": "markdown",
   "metadata": {},
   "source": [
    "### 3.2.1 Variable naming rules\n",
    "* The first character of the name must be a letter of the alphabet or an underscore (A variable name cannot start with a number)\n",
    "* The rest of the name can be letters (upper or lower case), underscores, or digits 0-9\n",
    "* Variable names are case sensitive. \n",
    "    * For example, MYVARIABLE and myvariable are different.\n",
    "* Variable names cannot be a reserved word in Python. \n",
    "    * For example, __break__, __def__, or __for__ are not allowed. \n",
    "\n",
    "Create a variable by typing the name you'd like to use, then the = sign and the value you'd like to store. The syntax is: \n",
    "\n",
    "__`my_profession = 'Data Scientist'\n",
    "my_number = 123456789`__"
   ]
  },
  {
   "cell_type": "code",
   "execution_count": null,
   "metadata": {},
   "outputs": [],
   "source": [
    "myProfession = 'Data Scientist'\n",
    "myNumber = 123456789"
   ]
  },
  {
   "cell_type": "markdown",
   "metadata": {},
   "source": [
    "### 3.2.2 Declare a Variable\n",
    "You can access the value of a variable by the variable's name."
   ]
  },
  {
   "cell_type": "code",
   "execution_count": null,
   "metadata": {},
   "outputs": [],
   "source": [
    "myProfession"
   ]
  },
  {
   "cell_type": "markdown",
   "metadata": {},
   "source": [
    "What happens if you try to access two different variables on two lines?"
   ]
  },
  {
   "cell_type": "code",
   "execution_count": null,
   "metadata": {},
   "outputs": [],
   "source": [
    "myProfession\n",
    "myNumber"
   ]
  },
  {
   "cell_type": "markdown",
   "metadata": {},
   "source": [
    "**To display more than one variable in the Output, we use the print function.**<br>\n",
    "In Python we can use the __`print()`__ function to print a something to the screen. For example: \n",
    "\n",
    "__`print(my_profession)\n",
    "print('My number is: ', my_number)`__"
   ]
  },
  {
   "cell_type": "code",
   "execution_count": null,
   "metadata": {
    "scrolled": true
   },
   "outputs": [],
   "source": [
    "print(myProfession)\n",
    "print('My number is: ', myNumber)\n",
    "print('My number is: ' + str(myNumber))"
   ]
  },
  {
   "cell_type": "code",
   "execution_count": null,
   "metadata": {
    "scrolled": true
   },
   "outputs": [],
   "source": [
    "myNumber, myProfession"
   ]
  },
  {
   "cell_type": "markdown",
   "metadata": {},
   "source": [
    "## 3.3 Numbers\n",
    "**Python: Crash Course, pages 30-33.**\n",
    "\n",
    "There are three numeric types in Python:\n",
    "* **integer**: a whole number, positive or negative, without decimals, of unlimited length\n",
    "* **floating point number**: a number, positive or negative, containing one or more decimals. Float can also be scientific numbers with an \"e\" to indicate the power of 10.\n",
    "* **complex**: Complex numbers are written with a \"j\" as the imaginary part <br>\n",
    "\n",
    "Here are some examples in Python:"
   ]
  },
  {
   "cell_type": "code",
   "execution_count": null,
   "metadata": {},
   "outputs": [],
   "source": [
    "x = 1    # int\n",
    "y = 2.8  # float\n",
    "yy = 35e3  # float\n",
    "z = 1j   # complex"
   ]
  },
  {
   "cell_type": "code",
   "execution_count": null,
   "metadata": {},
   "outputs": [],
   "source": [
    "print(type(x))\n",
    "print(type(y))\n",
    "print(type(yy))\n",
    "print(type(z))"
   ]
  },
  {
   "cell_type": "markdown",
   "metadata": {},
   "source": [
    "You can convert between a float and an integer using a built-in Python function. \n",
    "\n",
    "To change a float to an integer use the syntax: __`int(3.8)`__"
   ]
  },
  {
   "cell_type": "code",
   "execution_count": null,
   "metadata": {},
   "outputs": [],
   "source": [
    "#convert from int to float:\n",
    "a = float(x)\n",
    "\n",
    "#convert from float to int:\n",
    "b = int(y)\n",
    "\n",
    "#convert from int to complex:\n",
    "c = complex(x)\n",
    "\n",
    "print(a)\n",
    "print(b)\n",
    "print(c)"
   ]
  },
  {
   "cell_type": "markdown",
   "metadata": {},
   "source": [
    "<font color=\"green\">**Q: Does the int() function round up or round down? Why do you think it does or it doesn't round?**</font>"
   ]
  },
  {
   "cell_type": "code",
   "execution_count": null,
   "metadata": {},
   "outputs": [],
   "source": []
  },
  {
   "cell_type": "markdown",
   "metadata": {},
   "source": [
    "## 3.4 Strings\n",
    "**Python: Crash Course, Chapter 2, pages 23 - 27.**\n",
    "\n",
    "Strings are collections of alphabets, words or other characters. "
   ]
  },
  {
   "cell_type": "markdown",
   "metadata": {},
   "source": [
    "### 3.4.1 Notations for Strings\n",
    "\n",
    "There are four notations for strings: \n",
    "* __Single Quote__ notation: `'this is a string'`\n",
    "* __Double Quote__ notation: `\"this is a string\"`\n",
    "* __Triple Quotes__ notation: `'''this is also a string'''`\n",
    "* __Triple Double Quotes__ notation: `\"\"\"this is also a string\"\"\"`\n",
    "\n",
    "You can nest different types of quotes within strings, but you have to start and end a string with the same type of quote!"
   ]
  },
  {
   "cell_type": "code",
   "execution_count": null,
   "metadata": {},
   "outputs": [],
   "source": [
    "text = '''This is a multi-line string, \n",
    "which continues on as many lines as you need. \n",
    "\n",
    "You can even add other strings inside: \n",
    "\"This is a double quote string\"\n",
    "'And this is a single quote string'.\n",
    "'''\n",
    "\n",
    "print(text)"
   ]
  },
  {
   "cell_type": "markdown",
   "metadata": {},
   "source": [
    "Usually single or double quotes are used for shorter strings, while triple quotes are used for multi-line strings, but this is just a convention. "
   ]
  },
  {
   "cell_type": "markdown",
   "metadata": {},
   "source": [
    "#### <font color=\"green\"> Exercise: Create your own strings below - be sure to use each type of quote: </font>"
   ]
  },
  {
   "cell_type": "code",
   "execution_count": null,
   "metadata": {},
   "outputs": [],
   "source": [
    "'First string - single quote'"
   ]
  },
  {
   "cell_type": "code",
   "execution_count": null,
   "metadata": {},
   "outputs": [],
   "source": [
    "\"Second string - double quote\""
   ]
  },
  {
   "cell_type": "code",
   "execution_count": null,
   "metadata": {},
   "outputs": [],
   "source": [
    "'''Third string - triple quote'''"
   ]
  },
  {
   "cell_type": "markdown",
   "metadata": {},
   "source": [
    "#### <font color=\"green\"> Q: When would you use both single quotes & double quotes in the same string? Give an example below.</font>"
   ]
  },
  {
   "cell_type": "code",
   "execution_count": null,
   "metadata": {},
   "outputs": [],
   "source": [
    "'A string that includes \"double quote\" in the line'"
   ]
  },
  {
   "cell_type": "markdown",
   "metadata": {},
   "source": [
    "### 3.4.2 Manipulations for Strings\n",
    "There are several helpful, built-in manipulations for strings. For example: "
   ]
  },
  {
   "cell_type": "code",
   "execution_count": null,
   "metadata": {},
   "outputs": [],
   "source": [
    "my_str = 'Practice takes time & time is spent best in practice.'"
   ]
  },
  {
   "cell_type": "code",
   "execution_count": null,
   "metadata": {},
   "outputs": [],
   "source": [
    "my_str"
   ]
  },
  {
   "cell_type": "markdown",
   "metadata": {},
   "source": [
    "You can make a string all uppercase using the method upper like this: __`my_str.upper()`__ <br>\n",
    "**Challenge:** When & why do you think we will need to use this method?"
   ]
  },
  {
   "cell_type": "code",
   "execution_count": null,
   "metadata": {},
   "outputs": [],
   "source": [
    "my_str.upper() # this makes everything be uppercased & only works with strings."
   ]
  },
  {
   "cell_type": "markdown",
   "metadata": {},
   "source": [
    "You can make a string all lowercase using the method lower like this: __`my_str.lower()`__ <br>\n",
    "**Challenge:** When & why do you think we will need to use this method?"
   ]
  },
  {
   "cell_type": "code",
   "execution_count": null,
   "metadata": {
    "scrolled": true
   },
   "outputs": [],
   "source": [
    "my_str.lower()"
   ]
  },
  {
   "cell_type": "markdown",
   "metadata": {},
   "source": [
    "We can also use slicing methods to extract a single letter of a string. <br> \n",
    "\n",
    "You can slice a string using the index of the letters. <br>\n",
    "\n",
    "The first letter is index 0. **This is because the first index in Python is always 0.**<br>\n",
    "\n",
    "For example, to get the first letter of our string we should code out: <br>\n",
    "__`my_str[0]`__"
   ]
  },
  {
   "cell_type": "code",
   "execution_count": null,
   "metadata": {},
   "outputs": [],
   "source": [
    "my_str[0], my_str[1], my_str[2]"
   ]
  },
  {
   "cell_type": "markdown",
   "metadata": {},
   "source": [
    "We can also index from the end of the string by using a negative index. <br>\n",
    "For example, to get the last letter of our string we can use: <br>\n",
    "__`my_str[-1]`__"
   ]
  },
  {
   "cell_type": "code",
   "execution_count": null,
   "metadata": {},
   "outputs": [],
   "source": [
    "my_str[-1], my_str[-2], my_str[-3]"
   ]
  },
  {
   "cell_type": "markdown",
   "metadata": {},
   "source": [
    "Slicing will also allow us to extract a subsequence from the string. The syntax is: <br>\n",
    "__`my_str[i:j]`__ where i is the starting index and j is the ending index. <p>\n",
    "\n",
    "**In Python the lower bound is included, but the upper bound is not included.** <br>\n",
    "For example, if we wanted the first four (4) letters of our string we could use the syntax: <br>\n",
    "__`my_str[0:4]`__"
   ]
  },
  {
   "cell_type": "code",
   "execution_count": null,
   "metadata": {},
   "outputs": [],
   "source": [
    "my_str[0:4]"
   ]
  },
  {
   "cell_type": "markdown",
   "metadata": {},
   "source": [
    "Slicing can also use an extended syntax: \n",
    "\n",
    "__`my_str[i:j:k]`__ where<br>\n",
    "* **i** is the starting index \n",
    "* **j** is the ending index \n",
    "* **k** is the stride or the step between indices (default is 1)\n",
    "\n",
    "For example, if we wanted every other letter (k = 2) of the first (i = 0) 6 characters (j = 7) we could use: \n",
    "\n",
    "__`my_str[0:7:2]`__"
   ]
  },
  {
   "cell_type": "code",
   "execution_count": null,
   "metadata": {
    "scrolled": true
   },
   "outputs": [],
   "source": [
    "my_str[0:7:2]"
   ]
  },
  {
   "cell_type": "markdown",
   "metadata": {},
   "source": [
    "**Slicing doesn't require a start or an end index.** <br>\n",
    "\n",
    "Leaving off the starting index is equivalent to specifing the first index, 0. In other words, **the default for i is 0.** <br>\n",
    "\n",
    "Leaving off the ending index is equivalent to the index of the last character. In other words, **the default for j is the number of characters + 1, n + 1.** <p>\n",
    "    \n",
    "For example, we can slice the first (i = 0 or empty) 4 characters (j = 5) with the syntax: <br>\n",
    "__`my_str[:5]`__"
   ]
  },
  {
   "cell_type": "code",
   "execution_count": null,
   "metadata": {},
   "outputs": [],
   "source": [
    "my_str[:5]"
   ]
  },
  {
   "cell_type": "markdown",
   "metadata": {},
   "source": [
    "Or we can slice the characters from index 5 (i = 5) to the end of the string (j = n or empty) with the syntax: <br>\n",
    "__`my_str[5:]`__"
   ]
  },
  {
   "cell_type": "code",
   "execution_count": null,
   "metadata": {},
   "outputs": [],
   "source": [
    "my_str[5:]"
   ]
  },
  {
   "cell_type": "markdown",
   "metadata": {},
   "source": [
    "We could get every other character (k = 2) for the entire string (i & j are empty) with the syntax: <br>\n",
    "__`my_str[::2]`__"
   ]
  },
  {
   "cell_type": "code",
   "execution_count": null,
   "metadata": {},
   "outputs": [],
   "source": [
    "my_str[::2]"
   ]
  },
  {
   "cell_type": "markdown",
   "metadata": {},
   "source": [
    "Or we could use -1 as the step in the extended syntax to get the string (i & j are empty) in reversed order (k = -1): <br> __`my_str[::-1]`__"
   ]
  },
  {
   "cell_type": "code",
   "execution_count": null,
   "metadata": {},
   "outputs": [],
   "source": [
    "my_str[::-1]"
   ]
  },
  {
   "cell_type": "markdown",
   "metadata": {},
   "source": [
    "You can get the count of how many elements are in the string by checking the length:<br>\n",
    "**`len(my_str)`**"
   ]
  },
  {
   "cell_type": "code",
   "execution_count": null,
   "metadata": {},
   "outputs": [],
   "source": [
    "len(my_str)"
   ]
  },
  {
   "cell_type": "markdown",
   "metadata": {},
   "source": [
    "## 3.5 Literal Constants\n",
    "A literal constant is an actual literal value. Literal constants represent themselves, and connot be changed. <br>\n",
    "\n",
    "Literal constants can be numbers or strings (text)."
   ]
  },
  {
   "cell_type": "code",
   "execution_count": null,
   "metadata": {},
   "outputs": [],
   "source": [
    "# This is a literal constant - it's value cannot change\n",
    "2"
   ]
  },
  {
   "cell_type": "code",
   "execution_count": null,
   "metadata": {},
   "outputs": [],
   "source": [
    "# This is also a literal constant - it cannot change\n",
    "'This sentence is a literal constant'"
   ]
  },
  {
   "cell_type": "markdown",
   "metadata": {},
   "source": [
    "#### <font color=\"green\"> Q: Create your own literal constants below (one number and one string)</font>"
   ]
  },
  {
   "cell_type": "code",
   "execution_count": null,
   "metadata": {},
   "outputs": [],
   "source": []
  },
  {
   "cell_type": "markdown",
   "metadata": {},
   "source": [
    "## 3.6  Operators\n",
    "**Python: Crash Course, Chapter 5, pages 76 - 82**\n",
    "\n",
    "**Operators** are special symbols in Python that carry out arithmetic or logical computation. The value that the operator operates on is called the **operand**."
   ]
  },
  {
   "cell_type": "markdown",
   "metadata": {},
   "source": [
    "### 3.6.1 Arithmetic operators\n",
    "Arithmetic operators are used to perform mathematical operations like addition, subtraction, multiplication etc.<br>\n",
    "\n",
    "* `+`: Add two operands or unary plus\n",
    "* `-`: Subtract right operand from the left or unary minus\n",
    "* `*`: Multiply two operands\n",
    "* `/`: Divide left operand by the right one (always results into float)\n",
    "* `%`: Modulus - remainder of the division of left operand by the right\n",
    "* `//`: Floor division - division that results into whole number adjusted to the left in the number line\n",
    "* `**`: Exponent - left operand raised to the power of right"
   ]
  },
  {
   "cell_type": "code",
   "execution_count": null,
   "metadata": {},
   "outputs": [],
   "source": [
    "x = 15\n",
    "y = 4\n",
    "\n",
    "print('x + y =',x+y)\n",
    "print('x - y =',x-y)\n",
    "print('x * y =',x*y)\n",
    "print('x / y =',x/y)\n",
    "print('x // y =',x//y)\n",
    "print('x ** y =',x**y)"
   ]
  },
  {
   "cell_type": "markdown",
   "metadata": {},
   "source": [
    "#### <font color=\"green\">Exercises: Let's convert a temperature from fahrenheit to celcius. (Subtract 32 from the temperature, multiply by 5, then divide by 9.)</font>"
   ]
  },
  {
   "cell_type": "code",
   "execution_count": null,
   "metadata": {},
   "outputs": [],
   "source": []
  },
  {
   "cell_type": "markdown",
   "metadata": {},
   "source": [
    "#### <font color=\"green\">Exercises: We have 25 cookies and 7 friends at our party. If we wanted to give each friend 3 cookies how many cookies would we have left? (Use the modulo operator for this question)</font>"
   ]
  },
  {
   "cell_type": "code",
   "execution_count": null,
   "metadata": {},
   "outputs": [],
   "source": []
  },
  {
   "cell_type": "markdown",
   "metadata": {},
   "source": [
    "### 3.6.2 Comparison operators\n",
    "Comparison operators are used to compare values. It either returns True or False according to the condition.<br>\n",
    "\n",
    "* `>`: Greater that - True if left operand is greater than the right\n",
    "* `<`: Less that - True if left operand is less than the right\n",
    "* `==`: Equal to - True if both operands are equal\n",
    "* `!=`: Not equal to - True if operands are not equal\n",
    "* `>=`: Greater than or equal to - True if left operand is greater than or equal to the right\n",
    "* `<=`: Less than or equal to - True if left operand is less than or equal to the right"
   ]
  },
  {
   "cell_type": "code",
   "execution_count": null,
   "metadata": {},
   "outputs": [],
   "source": [
    "x = 10\n",
    "y = 12\n",
    "# Output: x > y is False\n",
    "print('x > y  is',x>y)\n",
    "# Output: x < y is True\n",
    "print('x < y  is',x<y)\n",
    "# Output: x == y is False\n",
    "print('x == y is',x==y)\n",
    "# Output: x != y is True\n",
    "print('x != y is',x!=y)\n",
    "# Output: x >= y is False\n",
    "print('x >= y is',x>=y)\n",
    "# Output: x <= y is True\n",
    "print('x <= y is',x<=y)"
   ]
  },
  {
   "cell_type": "markdown",
   "metadata": {},
   "source": [
    "### 3.6.3 Logic operators\n",
    "Logical operators are the and, or, not operators.<br>\n",
    "\n",
    "* `and`: True if both the operands are true\n",
    "* `or`: True if either of the operands is true\n",
    "* `not`: True if operand is false (complements the operand)\t"
   ]
  },
  {
   "cell_type": "code",
   "execution_count": null,
   "metadata": {},
   "outputs": [],
   "source": [
    "x = True\n",
    "y = False\n",
    "# Output: x and y is False\n",
    "print('x and y is',x and y)\n",
    "# Output: x or y is True\n",
    "print('x or y is',x or y)\n",
    "# Output: not x is False\n",
    "print('not x is',not x)"
   ]
  },
  {
   "cell_type": "code",
   "execution_count": null,
   "metadata": {},
   "outputs": [],
   "source": [
    "a = 1\n",
    "b = 2\n",
    "c = 3\n",
    "print((a < b) & (a < c))\n",
    "print((a < b) and (a < c))"
   ]
  },
  {
   "cell_type": "markdown",
   "metadata": {},
   "source": [
    "<img src='http://www.thedevmasters.com/wp-content/uploads/2015/12/cropped-pp.png' width = '50' height = '50' align = 'right'>"
   ]
  }
 ],
 "metadata": {
  "anaconda-cloud": {},
  "kernelspec": {
   "display_name": "Python 3 (ipykernel)",
   "language": "python",
   "name": "python3"
  },
  "language_info": {
   "codemirror_mode": {
    "name": "ipython",
    "version": 3
   },
   "file_extension": ".py",
   "mimetype": "text/x-python",
   "name": "python",
   "nbconvert_exporter": "python",
   "pygments_lexer": "ipython3",
   "version": "3.9.12"
  }
 },
 "nbformat": 4,
 "nbformat_minor": 1
}
