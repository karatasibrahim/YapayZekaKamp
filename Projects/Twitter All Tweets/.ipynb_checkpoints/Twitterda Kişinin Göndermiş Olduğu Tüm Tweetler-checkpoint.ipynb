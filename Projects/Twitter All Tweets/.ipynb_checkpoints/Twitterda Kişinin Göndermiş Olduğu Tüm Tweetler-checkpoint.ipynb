{
 "cells": [
  {
   "cell_type": "code",
   "execution_count": 1,
   "id": "3e4c6f8a",
   "metadata": {},
   "outputs": [],
   "source": [
    "#!pip install snscrape"
   ]
  },
  {
   "cell_type": "code",
   "execution_count": 2,
   "id": "4af6c1b7",
   "metadata": {},
   "outputs": [],
   "source": [
    "import snscrape.modules.twitter as sntwitter"
   ]
  },
  {
   "cell_type": "code",
   "execution_count": 3,
   "id": "fae70b05",
   "metadata": {},
   "outputs": [],
   "source": [
    "import pandas as pd"
   ]
  },
  {
   "cell_type": "code",
   "execution_count": 8,
   "id": "23a32307",
   "metadata": {},
   "outputs": [
    {
     "name": "stderr",
     "output_type": "stream",
     "text": [
      "C:\\Users\\ibrah\\AppData\\Local\\Temp\\ipykernel_21224\\2040491609.py:6: FutureWarning: username is deprecated, use user.username instead\n",
      "  tweets.append([tweet.date,tweet.id,tweet.content,tweet.username])\n"
     ]
    }
   ],
   "source": [
    "tweets=[]\n",
    "\n",
    "for i,tweet in enumerate(sntwitter.TwitterSearchScraper('from:elonmusk').get_items()):\n",
    "    if i>1000:\n",
    "        break\n",
    "    tweets.append([tweet.date,tweet.id,tweet.content,tweet.username])"
   ]
  },
  {
   "cell_type": "code",
   "execution_count": 9,
   "id": "5b3501d1",
   "metadata": {},
   "outputs": [],
   "source": [
    "df=pd.DataFrame(tweets,columns=[\"date\",\"Tweet Id\",\"Text\",\"Username\"])"
   ]
  },
  {
   "cell_type": "code",
   "execution_count": 10,
   "id": "4b69ea1f",
   "metadata": {},
   "outputs": [
    {
     "data": {
      "text/html": [
       "<div>\n",
       "<style scoped>\n",
       "    .dataframe tbody tr th:only-of-type {\n",
       "        vertical-align: middle;\n",
       "    }\n",
       "\n",
       "    .dataframe tbody tr th {\n",
       "        vertical-align: top;\n",
       "    }\n",
       "\n",
       "    .dataframe thead th {\n",
       "        text-align: right;\n",
       "    }\n",
       "</style>\n",
       "<table border=\"1\" class=\"dataframe\">\n",
       "  <thead>\n",
       "    <tr style=\"text-align: right;\">\n",
       "      <th></th>\n",
       "      <th>date</th>\n",
       "      <th>Tweet Id</th>\n",
       "      <th>Text</th>\n",
       "      <th>Username</th>\n",
       "    </tr>\n",
       "  </thead>\n",
       "  <tbody>\n",
       "    <tr>\n",
       "      <th>0</th>\n",
       "      <td>2022-11-12 07:47:20+00:00</td>\n",
       "      <td>1591336830389067778</td>\n",
       "      <td>@WholeMarsBlog FSD V11 rolled out at 11:11pm P...</td>\n",
       "      <td>elonmusk</td>\n",
       "    </tr>\n",
       "    <tr>\n",
       "      <th>1</th>\n",
       "      <td>2022-11-12 07:36:39+00:00</td>\n",
       "      <td>1591334141140045824</td>\n",
       "      <td>🪦🤖</td>\n",
       "      <td>elonmusk</td>\n",
       "    </tr>\n",
       "    <tr>\n",
       "      <th>2</th>\n",
       "      <td>2022-11-12 07:04:19+00:00</td>\n",
       "      <td>1591326005272141826</td>\n",
       "      <td>Twitter is</td>\n",
       "      <td>elonmusk</td>\n",
       "    </tr>\n",
       "    <tr>\n",
       "      <th>3</th>\n",
       "      <td>2022-11-12 06:55:42+00:00</td>\n",
       "      <td>1591323837077278721</td>\n",
       "      <td>@KimDotcom @sama Not sure I have much to add</td>\n",
       "      <td>elonmusk</td>\n",
       "    </tr>\n",
       "    <tr>\n",
       "      <th>4</th>\n",
       "      <td>2022-11-12 06:47:53+00:00</td>\n",
       "      <td>1591321867029094400</td>\n",
       "      <td>@sama https://t.co/Im1hBlUihz</td>\n",
       "      <td>elonmusk</td>\n",
       "    </tr>\n",
       "  </tbody>\n",
       "</table>\n",
       "</div>"
      ],
      "text/plain": [
       "                       date             Tweet Id  \\\n",
       "0 2022-11-12 07:47:20+00:00  1591336830389067778   \n",
       "1 2022-11-12 07:36:39+00:00  1591334141140045824   \n",
       "2 2022-11-12 07:04:19+00:00  1591326005272141826   \n",
       "3 2022-11-12 06:55:42+00:00  1591323837077278721   \n",
       "4 2022-11-12 06:47:53+00:00  1591321867029094400   \n",
       "\n",
       "                                                Text  Username  \n",
       "0  @WholeMarsBlog FSD V11 rolled out at 11:11pm P...  elonmusk  \n",
       "1                                                 🪦🤖  elonmusk  \n",
       "2                                         Twitter is  elonmusk  \n",
       "3       @KimDotcom @sama Not sure I have much to add  elonmusk  \n",
       "4                      @sama https://t.co/Im1hBlUihz  elonmusk  "
      ]
     },
     "execution_count": 10,
     "metadata": {},
     "output_type": "execute_result"
    }
   ],
   "source": [
    "df.head()"
   ]
  },
  {
   "cell_type": "code",
   "execution_count": 30,
   "id": "61aaa83a",
   "metadata": {},
   "outputs": [
    {
     "name": "stderr",
     "output_type": "stream",
     "text": [
      "C:\\Users\\ibrah\\AppData\\Local\\Temp\\ipykernel_21224\\2104285828.py:5: FutureWarning: username is deprecated, use user.username instead\n",
      "  tweets2.append([tweet.date,tweet.id,tweet.content,tweet.username])\n"
     ]
    }
   ],
   "source": [
    "tweets2=[]\n",
    "\n",
    "for i,tweet in enumerate(sntwitter.TwitterSearchScraper('togg since:2022-11-11 until:2022-11-12').get_items()):\n",
    "    \n",
    "    tweets2.append([tweet.date,tweet.id,tweet.content,tweet.username])"
   ]
  },
  {
   "cell_type": "code",
   "execution_count": 31,
   "id": "73c30e28",
   "metadata": {},
   "outputs": [],
   "source": [
    "# Yukarıda bir günlük togg ile atılan verileri çekmiş olduk"
   ]
  },
  {
   "cell_type": "code",
   "execution_count": 32,
   "id": "f59e78dd",
   "metadata": {},
   "outputs": [],
   "source": [
    "df=pd.DataFrame(tweets2,columns=[\"date\",\"Tweet Id\",\"Text\",\"Username\"])"
   ]
  },
  {
   "cell_type": "code",
   "execution_count": 33,
   "id": "6809cb30",
   "metadata": {},
   "outputs": [
    {
     "data": {
      "text/html": [
       "<div>\n",
       "<style scoped>\n",
       "    .dataframe tbody tr th:only-of-type {\n",
       "        vertical-align: middle;\n",
       "    }\n",
       "\n",
       "    .dataframe tbody tr th {\n",
       "        vertical-align: top;\n",
       "    }\n",
       "\n",
       "    .dataframe thead th {\n",
       "        text-align: right;\n",
       "    }\n",
       "</style>\n",
       "<table border=\"1\" class=\"dataframe\">\n",
       "  <thead>\n",
       "    <tr style=\"text-align: right;\">\n",
       "      <th></th>\n",
       "      <th>date</th>\n",
       "      <th>Tweet Id</th>\n",
       "      <th>Text</th>\n",
       "      <th>Username</th>\n",
       "    </tr>\n",
       "  </thead>\n",
       "  <tbody>\n",
       "    <tr>\n",
       "      <th>0</th>\n",
       "      <td>2022-11-11 23:58:30+00:00</td>\n",
       "      <td>1591218844571688960</td>\n",
       "      <td>@sonceneviz @aykiricomtr Bir Markanın Yerli Ve...</td>\n",
       "      <td>CdrLhsn</td>\n",
       "    </tr>\n",
       "    <tr>\n",
       "      <th>1</th>\n",
       "      <td>2022-11-11 23:56:31+00:00</td>\n",
       "      <td>1591218345424334849</td>\n",
       "      <td>@yenisafak can atakliyi sevmem togg yerli diyo...</td>\n",
       "      <td>ZBAYBEKR2</td>\n",
       "    </tr>\n",
       "    <tr>\n",
       "      <th>2</th>\n",
       "      <td>2022-11-11 23:54:39+00:00</td>\n",
       "      <td>1591217876106903553</td>\n",
       "      <td>@metcihan Togg</td>\n",
       "      <td>Ozturk181</td>\n",
       "    </tr>\n",
       "    <tr>\n",
       "      <th>3</th>\n",
       "      <td>2022-11-11 23:52:19+00:00</td>\n",
       "      <td>1591217286840451074</td>\n",
       "      <td>@caglarcilara Zalimin yanında olmamak. İktidar...</td>\n",
       "      <td>ae45016998</td>\n",
       "    </tr>\n",
       "    <tr>\n",
       "      <th>4</th>\n",
       "      <td>2022-11-11 23:52:00+00:00</td>\n",
       "      <td>1591217209644392450</td>\n",
       "      <td>Heykelemi konuşuyo la bu beton kafa, kimsede y...</td>\n",
       "      <td>darkbluegreen88</td>\n",
       "    </tr>\n",
       "  </tbody>\n",
       "</table>\n",
       "</div>"
      ],
      "text/plain": [
       "                       date             Tweet Id  \\\n",
       "0 2022-11-11 23:58:30+00:00  1591218844571688960   \n",
       "1 2022-11-11 23:56:31+00:00  1591218345424334849   \n",
       "2 2022-11-11 23:54:39+00:00  1591217876106903553   \n",
       "3 2022-11-11 23:52:19+00:00  1591217286840451074   \n",
       "4 2022-11-11 23:52:00+00:00  1591217209644392450   \n",
       "\n",
       "                                                Text         Username  \n",
       "0  @sonceneviz @aykiricomtr Bir Markanın Yerli Ve...          CdrLhsn  \n",
       "1  @yenisafak can atakliyi sevmem togg yerli diyo...        ZBAYBEKR2  \n",
       "2                                     @metcihan Togg        Ozturk181  \n",
       "3  @caglarcilara Zalimin yanında olmamak. İktidar...       ae45016998  \n",
       "4  Heykelemi konuşuyo la bu beton kafa, kimsede y...  darkbluegreen88  "
      ]
     },
     "execution_count": 33,
     "metadata": {},
     "output_type": "execute_result"
    }
   ],
   "source": [
    "df.head()"
   ]
  },
  {
   "cell_type": "code",
   "execution_count": 35,
   "id": "894cf00c",
   "metadata": {},
   "outputs": [
    {
     "data": {
      "text/plain": [
       "(2341, 4)"
      ]
     },
     "execution_count": 35,
     "metadata": {},
     "output_type": "execute_result"
    }
   ],
   "source": [
    "df.shape"
   ]
  },
  {
   "cell_type": "code",
   "execution_count": 36,
   "id": "3bc23e6f",
   "metadata": {
    "scrolled": true
   },
   "outputs": [
    {
     "name": "stderr",
     "output_type": "stream",
     "text": [
      "C:\\Users\\ibrah\\AppData\\Local\\Temp\\ipykernel_21224\\3808098859.py:5: FutureWarning: username is deprecated, use user.username instead\n",
      "  tweets2.append([tweet.date,tweet.id,tweet.content,tweet.username])\n"
     ]
    }
   ],
   "source": [
    "tweets2=[]\n",
    "\n",
    "for i,tweet in enumerate(sntwitter.TwitterSearchScraper('togg near:\"Los Angeles\" within:10km').get_items()):\n",
    "    \n",
    "    tweets2.append([tweet.date,tweet.id,tweet.content,tweet.username])"
   ]
  },
  {
   "cell_type": "code",
   "execution_count": null,
   "id": "273cf1e8",
   "metadata": {},
   "outputs": [],
   "source": [
    "#Los Angeles ve ona yakon 10 km  çevresinde togg ile konuşanların twitleri"
   ]
  },
  {
   "cell_type": "code",
   "execution_count": 37,
   "id": "f0f0c5f0",
   "metadata": {},
   "outputs": [],
   "source": [
    "df=pd.DataFrame(tweets2,columns=[\"date\",\"Tweet Id\",\"Text\",\"Username\"])"
   ]
  },
  {
   "cell_type": "code",
   "execution_count": 38,
   "id": "37297cb0",
   "metadata": {},
   "outputs": [
    {
     "data": {
      "text/html": [
       "<div>\n",
       "<style scoped>\n",
       "    .dataframe tbody tr th:only-of-type {\n",
       "        vertical-align: middle;\n",
       "    }\n",
       "\n",
       "    .dataframe tbody tr th {\n",
       "        vertical-align: top;\n",
       "    }\n",
       "\n",
       "    .dataframe thead th {\n",
       "        text-align: right;\n",
       "    }\n",
       "</style>\n",
       "<table border=\"1\" class=\"dataframe\">\n",
       "  <thead>\n",
       "    <tr style=\"text-align: right;\">\n",
       "      <th></th>\n",
       "      <th>date</th>\n",
       "      <th>Tweet Id</th>\n",
       "      <th>Text</th>\n",
       "      <th>Username</th>\n",
       "    </tr>\n",
       "  </thead>\n",
       "  <tbody>\n",
       "    <tr>\n",
       "      <th>0</th>\n",
       "      <td>2022-11-12 18:01:39+00:00</td>\n",
       "      <td>1591491426319470595</td>\n",
       "      <td>@Togg2022 next cumhurbaskaninin siparisini nas...</td>\n",
       "      <td>KolivarFatih</td>\n",
       "    </tr>\n",
       "    <tr>\n",
       "      <th>1</th>\n",
       "      <td>2022-11-12 13:46:14+00:00</td>\n",
       "      <td>1591427150602964992</td>\n",
       "      <td>@solcugazete Ay bizde cok uzulmustuk togg sipa...</td>\n",
       "      <td>rhberssrgu</td>\n",
       "    </tr>\n",
       "    <tr>\n",
       "      <th>2</th>\n",
       "      <td>2022-11-12 13:39:53+00:00</td>\n",
       "      <td>1591425551512010752</td>\n",
       "      <td>@HaberReport Togg ilk bayiliği saraya mı vermi...</td>\n",
       "      <td>mujdatozkan1</td>\n",
       "    </tr>\n",
       "    <tr>\n",
       "      <th>3</th>\n",
       "      <td>2022-11-12 12:52:09+00:00</td>\n",
       "      <td>1591413538488307715</td>\n",
       "      <td>@Togg2022 Yau he he</td>\n",
       "      <td>HHK1989</td>\n",
       "    </tr>\n",
       "    <tr>\n",
       "      <th>4</th>\n",
       "      <td>2022-11-12 12:06:45+00:00</td>\n",
       "      <td>1591402115314110464</td>\n",
       "      <td>@baristekdemir @Togg2022 Yalnız seri üretim ol...</td>\n",
       "      <td>Copataxi_ecu</td>\n",
       "    </tr>\n",
       "  </tbody>\n",
       "</table>\n",
       "</div>"
      ],
      "text/plain": [
       "                       date             Tweet Id  \\\n",
       "0 2022-11-12 18:01:39+00:00  1591491426319470595   \n",
       "1 2022-11-12 13:46:14+00:00  1591427150602964992   \n",
       "2 2022-11-12 13:39:53+00:00  1591425551512010752   \n",
       "3 2022-11-12 12:52:09+00:00  1591413538488307715   \n",
       "4 2022-11-12 12:06:45+00:00  1591402115314110464   \n",
       "\n",
       "                                                Text      Username  \n",
       "0  @Togg2022 next cumhurbaskaninin siparisini nas...  KolivarFatih  \n",
       "1  @solcugazete Ay bizde cok uzulmustuk togg sipa...    rhberssrgu  \n",
       "2  @HaberReport Togg ilk bayiliği saraya mı vermi...  mujdatozkan1  \n",
       "3                                @Togg2022 Yau he he       HHK1989  \n",
       "4  @baristekdemir @Togg2022 Yalnız seri üretim ol...  Copataxi_ecu  "
      ]
     },
     "execution_count": 38,
     "metadata": {},
     "output_type": "execute_result"
    }
   ],
   "source": [
    "df.head()"
   ]
  },
  {
   "cell_type": "code",
   "execution_count": 39,
   "id": "68f38633",
   "metadata": {},
   "outputs": [
    {
     "data": {
      "text/plain": [
       "(40, 4)"
      ]
     },
     "execution_count": 39,
     "metadata": {},
     "output_type": "execute_result"
    }
   ],
   "source": [
    "df.shape"
   ]
  },
  {
   "cell_type": "code",
   "execution_count": null,
   "id": "1f021d89",
   "metadata": {},
   "outputs": [],
   "source": []
  }
 ],
 "metadata": {
  "kernelspec": {
   "display_name": "Python 3 (ipykernel)",
   "language": "python",
   "name": "python3"
  },
  "language_info": {
   "codemirror_mode": {
    "name": "ipython",
    "version": 3
   },
   "file_extension": ".py",
   "mimetype": "text/x-python",
   "name": "python",
   "nbconvert_exporter": "python",
   "pygments_lexer": "ipython3",
   "version": "3.9.12"
  }
 },
 "nbformat": 4,
 "nbformat_minor": 5
}
