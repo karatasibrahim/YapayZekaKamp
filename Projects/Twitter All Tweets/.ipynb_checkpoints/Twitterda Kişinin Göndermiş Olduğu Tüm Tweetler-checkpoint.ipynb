{
 "cells": [
  {
   "cell_type": "code",
   "execution_count": 1,
   "id": "3e943405",
   "metadata": {},
   "outputs": [],
   "source": [
    "#!pip install snscrape"
   ]
  },
  {
   "cell_type": "code",
   "execution_count": 2,
   "id": "bad09cbd",
   "metadata": {},
   "outputs": [],
   "source": [
    "import snscrape.modules.twitter as sntwitter"
   ]
  },
  {
   "cell_type": "code",
   "execution_count": 3,
   "id": "35de0c5a",
   "metadata": {},
   "outputs": [],
   "source": [
    "import pandas as pd"
   ]
  },
  {
   "cell_type": "code",
   "execution_count": 8,
   "id": "25706a4a",
   "metadata": {},
   "outputs": [
    {
     "name": "stderr",
     "output_type": "stream",
     "text": [
      "C:\\Users\\ibrah\\AppData\\Local\\Temp\\ipykernel_21224\\2040491609.py:6: FutureWarning: username is deprecated, use user.username instead\n",
      "  tweets.append([tweet.date,tweet.id,tweet.content,tweet.username])\n"
     ]
    }
   ],
   "source": [
    "tweets=[]\n",
    "\n",
    "for i,tweet in enumerate(sntwitter.TwitterSearchScraper('from:elonmusk').get_items()):\n",
    "    if i>1000:\n",
    "        break\n",
    "    tweets.append([tweet.date,tweet.id,tweet.content,tweet.username])"
   ]
  },
  {
   "cell_type": "code",
   "execution_count": 9,
   "id": "c860b92a",
   "metadata": {},
   "outputs": [],
   "source": [
    "df=pd.DataFrame(tweets,columns=[\"date\",\"Tweet Id\",\"Text\",\"Username\"])"
   ]
  },
  {
   "cell_type": "code",
   "execution_count": 10,
   "id": "8c5e1ce3",
   "metadata": {},
   "outputs": [
    {
     "data": {
      "text/html": [
       "<div>\n",
       "<style scoped>\n",
       "    .dataframe tbody tr th:only-of-type {\n",
       "        vertical-align: middle;\n",
       "    }\n",
       "\n",
       "    .dataframe tbody tr th {\n",
       "        vertical-align: top;\n",
       "    }\n",
       "\n",
       "    .dataframe thead th {\n",
       "        text-align: right;\n",
       "    }\n",
       "</style>\n",
       "<table border=\"1\" class=\"dataframe\">\n",
       "  <thead>\n",
       "    <tr style=\"text-align: right;\">\n",
       "      <th></th>\n",
       "      <th>date</th>\n",
       "      <th>Tweet Id</th>\n",
       "      <th>Text</th>\n",
       "      <th>Username</th>\n",
       "    </tr>\n",
       "  </thead>\n",
       "  <tbody>\n",
       "    <tr>\n",
       "      <th>0</th>\n",
       "      <td>2022-11-12 07:47:20+00:00</td>\n",
       "      <td>1591336830389067778</td>\n",
       "      <td>@WholeMarsBlog FSD V11 rolled out at 11:11pm P...</td>\n",
       "      <td>elonmusk</td>\n",
       "    </tr>\n",
       "    <tr>\n",
       "      <th>1</th>\n",
       "      <td>2022-11-12 07:36:39+00:00</td>\n",
       "      <td>1591334141140045824</td>\n",
       "      <td>🪦🤖</td>\n",
       "      <td>elonmusk</td>\n",
       "    </tr>\n",
       "    <tr>\n",
       "      <th>2</th>\n",
       "      <td>2022-11-12 07:04:19+00:00</td>\n",
       "      <td>1591326005272141826</td>\n",
       "      <td>Twitter is</td>\n",
       "      <td>elonmusk</td>\n",
       "    </tr>\n",
       "    <tr>\n",
       "      <th>3</th>\n",
       "      <td>2022-11-12 06:55:42+00:00</td>\n",
       "      <td>1591323837077278721</td>\n",
       "      <td>@KimDotcom @sama Not sure I have much to add</td>\n",
       "      <td>elonmusk</td>\n",
       "    </tr>\n",
       "    <tr>\n",
       "      <th>4</th>\n",
       "      <td>2022-11-12 06:47:53+00:00</td>\n",
       "      <td>1591321867029094400</td>\n",
       "      <td>@sama https://t.co/Im1hBlUihz</td>\n",
       "      <td>elonmusk</td>\n",
       "    </tr>\n",
       "  </tbody>\n",
       "</table>\n",
       "</div>"
      ],
      "text/plain": [
       "                       date             Tweet Id  \\\n",
       "0 2022-11-12 07:47:20+00:00  1591336830389067778   \n",
       "1 2022-11-12 07:36:39+00:00  1591334141140045824   \n",
       "2 2022-11-12 07:04:19+00:00  1591326005272141826   \n",
       "3 2022-11-12 06:55:42+00:00  1591323837077278721   \n",
       "4 2022-11-12 06:47:53+00:00  1591321867029094400   \n",
       "\n",
       "                                                Text  Username  \n",
       "0  @WholeMarsBlog FSD V11 rolled out at 11:11pm P...  elonmusk  \n",
       "1                                                 🪦🤖  elonmusk  \n",
       "2                                         Twitter is  elonmusk  \n",
       "3       @KimDotcom @sama Not sure I have much to add  elonmusk  \n",
       "4                      @sama https://t.co/Im1hBlUihz  elonmusk  "
      ]
     },
     "execution_count": 10,
     "metadata": {},
     "output_type": "execute_result"
    }
   ],
   "source": [
    "df.head()"
   ]
  },
  {
   "cell_type": "code",
   "execution_count": null,
   "id": "d22fc5da",
   "metadata": {},
   "outputs": [],
   "source": []
  }
 ],
 "metadata": {
  "kernelspec": {
   "display_name": "Python 3 (ipykernel)",
   "language": "python",
   "name": "python3"
  },
  "language_info": {
   "codemirror_mode": {
    "name": "ipython",
    "version": 3
   },
   "file_extension": ".py",
   "mimetype": "text/x-python",
   "name": "python",
   "nbconvert_exporter": "python",
   "pygments_lexer": "ipython3",
   "version": "3.9.12"
  }
 },
 "nbformat": 4,
 "nbformat_minor": 5
}
