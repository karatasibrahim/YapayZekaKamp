{
 "cells": [
  {
   "cell_type": "code",
   "execution_count": 1,
   "id": "9a30ac39",
   "metadata": {},
   "outputs": [],
   "source": [
    "import pandas as pd\n",
    "import warnings \n",
    "warnings.filterwarnings(\"ignore\")"
   ]
  },
  {
   "cell_type": "code",
   "execution_count": 2,
   "id": "eb5050b1",
   "metadata": {},
   "outputs": [
    {
     "name": "stdout",
     "output_type": "stream",
     "text": [
      " Volume in drive C has no label.\n",
      " Volume Serial Number is 1878-5713\n",
      "\n",
      " Directory of C:\\Users\\ibrah\\Documents\\GitHub\\YapayZekaKamp\\Projects\\Military Powers of Countries\n",
      "\n",
      "16.10.2022  23:58    <DIR>          .\n",
      "16.10.2022  23:58    <DIR>          ..\n",
      "16.10.2022  21:40    <DIR>          .ipynb_checkpoints\n",
      "16.10.2022  23:55            32.397 Military Powers of Countries.ipynb\n",
      "16.10.2022  23:58            55.165 World military power.xlsx\n",
      "               2 File(s)         87.562 bytes\n",
      "               3 Dir(s)  115.085.455.360 bytes free\n"
     ]
    }
   ],
   "source": [
    "ls"
   ]
  },
  {
   "cell_type": "code",
   "execution_count": 3,
   "id": "d469004c",
   "metadata": {},
   "outputs": [],
   "source": [
    "df=pd.read_excel(\"World military power.xlsx\")"
   ]
  },
  {
   "cell_type": "code",
   "execution_count": 4,
   "id": "82096ed3",
   "metadata": {},
   "outputs": [
    {
     "data": {
      "text/html": [
       "<div>\n",
       "<style scoped>\n",
       "    .dataframe tbody tr th:only-of-type {\n",
       "        vertical-align: middle;\n",
       "    }\n",
       "\n",
       "    .dataframe tbody tr th {\n",
       "        vertical-align: top;\n",
       "    }\n",
       "\n",
       "    .dataframe thead th {\n",
       "        text-align: right;\n",
       "    }\n",
       "</style>\n",
       "<table border=\"1\" class=\"dataframe\">\n",
       "  <thead>\n",
       "    <tr style=\"text-align: right;\">\n",
       "      <th></th>\n",
       "      <th>Military Strength</th>\n",
       "      <th>Military Strength Power Index</th>\n",
       "      <th>Aircraft Strength</th>\n",
       "      <th>Aircraft</th>\n",
       "      <th>Fighter/Interceptor Strength</th>\n",
       "      <th>FighterInterceptor</th>\n",
       "      <th>Attack Aircraft Strength</th>\n",
       "      <th>AttackAircraft</th>\n",
       "      <th>Transport Aircraft Fleet Strength</th>\n",
       "      <th>Transport Aircraft Fleet Strength value</th>\n",
       "      <th>...</th>\n",
       "      <th>Total Population</th>\n",
       "      <th>Total Population value</th>\n",
       "      <th>Total Square Land Area</th>\n",
       "      <th>Total Square Land Area value</th>\n",
       "      <th>Total Coastline Coverage</th>\n",
       "      <th>Total Coastline Coverage value</th>\n",
       "      <th>Total Waterway Coverage</th>\n",
       "      <th>Total Waterway Coverage value</th>\n",
       "      <th>Total Border Coverage</th>\n",
       "      <th>TotalBorder</th>\n",
       "    </tr>\n",
       "  </thead>\n",
       "  <tbody>\n",
       "    <tr>\n",
       "      <th>0</th>\n",
       "      <td>Afghanistan</td>\n",
       "      <td>1.3444</td>\n",
       "      <td>Afghanistan</td>\n",
       "      <td>260</td>\n",
       "      <td>Afghanistan</td>\n",
       "      <td>0</td>\n",
       "      <td>Afghanistan</td>\n",
       "      <td>25</td>\n",
       "      <td>Afghanistan</td>\n",
       "      <td>30</td>\n",
       "      <td>...</td>\n",
       "      <td>Afghanistan</td>\n",
       "      <td>3,49,40,837</td>\n",
       "      <td>Afghanistan</td>\n",
       "      <td>6,52,230</td>\n",
       "      <td>Afghanistan</td>\n",
       "      <td>0</td>\n",
       "      <td>Afghanistan</td>\n",
       "      <td>1200</td>\n",
       "      <td>Afghanistan</td>\n",
       "      <td>5987.0</td>\n",
       "    </tr>\n",
       "    <tr>\n",
       "      <th>1</th>\n",
       "      <td>Albania</td>\n",
       "      <td>2.3137</td>\n",
       "      <td>Albania</td>\n",
       "      <td>19</td>\n",
       "      <td>Albania</td>\n",
       "      <td>0</td>\n",
       "      <td>Albania</td>\n",
       "      <td>0</td>\n",
       "      <td>Albania</td>\n",
       "      <td>0</td>\n",
       "      <td>...</td>\n",
       "      <td>Albania</td>\n",
       "      <td>30,57,220</td>\n",
       "      <td>Albania</td>\n",
       "      <td>28748</td>\n",
       "      <td>Albania</td>\n",
       "      <td>362</td>\n",
       "      <td>Albania</td>\n",
       "      <td>41</td>\n",
       "      <td>Albania</td>\n",
       "      <td>691.0</td>\n",
       "    </tr>\n",
       "    <tr>\n",
       "      <th>2</th>\n",
       "      <td>Algeria</td>\n",
       "      <td>0.4659</td>\n",
       "      <td>Algeria</td>\n",
       "      <td>551</td>\n",
       "      <td>Algeria</td>\n",
       "      <td>103</td>\n",
       "      <td>Algeria</td>\n",
       "      <td>22</td>\n",
       "      <td>Algeria</td>\n",
       "      <td>59</td>\n",
       "      <td>...</td>\n",
       "      <td>Algeria</td>\n",
       "      <td>4,16,57,488</td>\n",
       "      <td>Algeria</td>\n",
       "      <td>23,81,741</td>\n",
       "      <td>Algeria</td>\n",
       "      <td>998</td>\n",
       "      <td>Algeria</td>\n",
       "      <td>0</td>\n",
       "      <td>Algeria</td>\n",
       "      <td>6734.0</td>\n",
       "    </tr>\n",
       "    <tr>\n",
       "      <th>3</th>\n",
       "      <td>Angola</td>\n",
       "      <td>0.8379</td>\n",
       "      <td>Angola</td>\n",
       "      <td>295</td>\n",
       "      <td>Angola</td>\n",
       "      <td>72</td>\n",
       "      <td>Angola</td>\n",
       "      <td>18</td>\n",
       "      <td>Angola</td>\n",
       "      <td>30</td>\n",
       "      <td>...</td>\n",
       "      <td>Angola</td>\n",
       "      <td>3,03,55,880</td>\n",
       "      <td>Angola</td>\n",
       "      <td>12,46,700</td>\n",
       "      <td>Angola</td>\n",
       "      <td>1600</td>\n",
       "      <td>Angola</td>\n",
       "      <td>1300</td>\n",
       "      <td>Angola</td>\n",
       "      <td>5369.0</td>\n",
       "    </tr>\n",
       "    <tr>\n",
       "      <th>4</th>\n",
       "      <td>Argentina</td>\n",
       "      <td>0.6521</td>\n",
       "      <td>Argentina</td>\n",
       "      <td>227</td>\n",
       "      <td>Argentina</td>\n",
       "      <td>24</td>\n",
       "      <td>Argentina</td>\n",
       "      <td>7</td>\n",
       "      <td>Argentina</td>\n",
       "      <td>9</td>\n",
       "      <td>...</td>\n",
       "      <td>Argentina</td>\n",
       "      <td>4,46,94,198</td>\n",
       "      <td>Argentina</td>\n",
       "      <td>27,80,400</td>\n",
       "      <td>Argentina</td>\n",
       "      <td>4989</td>\n",
       "      <td>Argentina</td>\n",
       "      <td>11000</td>\n",
       "      <td>Argentina</td>\n",
       "      <td>11968.0</td>\n",
       "    </tr>\n",
       "  </tbody>\n",
       "</table>\n",
       "<p>5 rows × 60 columns</p>\n",
       "</div>"
      ],
      "text/plain": [
       "  Military Strength  Military Strength Power Index Aircraft Strength  \\\n",
       "0       Afghanistan                         1.3444       Afghanistan   \n",
       "1           Albania                         2.3137           Albania   \n",
       "2           Algeria                         0.4659           Algeria   \n",
       "3            Angola                         0.8379            Angola   \n",
       "4         Argentina                         0.6521         Argentina   \n",
       "\n",
       "   Aircraft Fighter/Interceptor Strength  FighterInterceptor  \\\n",
       "0       260                  Afghanistan                   0   \n",
       "1        19                      Albania                   0   \n",
       "2       551                      Algeria                 103   \n",
       "3       295                       Angola                  72   \n",
       "4       227                    Argentina                  24   \n",
       "\n",
       "  Attack Aircraft Strength  AttackAircraft Transport Aircraft Fleet Strength  \\\n",
       "0              Afghanistan              25                       Afghanistan   \n",
       "1                  Albania               0                           Albania   \n",
       "2                  Algeria              22                           Algeria   \n",
       "3                   Angola              18                            Angola   \n",
       "4                Argentina               7                         Argentina   \n",
       "\n",
       "   Transport Aircraft Fleet Strength value  ... Total Population  \\\n",
       "0                                       30  ...      Afghanistan   \n",
       "1                                        0  ...          Albania   \n",
       "2                                       59  ...          Algeria   \n",
       "3                                       30  ...           Angola   \n",
       "4                                        9  ...        Argentina   \n",
       "\n",
       "   Total Population value Total Square Land Area  \\\n",
       "0             3,49,40,837            Afghanistan   \n",
       "1               30,57,220                Albania   \n",
       "2             4,16,57,488                Algeria   \n",
       "3             3,03,55,880                 Angola   \n",
       "4             4,46,94,198              Argentina   \n",
       "\n",
       "   Total Square Land Area value Total Coastline Coverage  \\\n",
       "0                      6,52,230              Afghanistan   \n",
       "1                         28748                  Albania   \n",
       "2                     23,81,741                  Algeria   \n",
       "3                     12,46,700                   Angola   \n",
       "4                     27,80,400                Argentina   \n",
       "\n",
       "   Total Coastline Coverage value Total Waterway Coverage  \\\n",
       "0                               0             Afghanistan   \n",
       "1                             362                 Albania   \n",
       "2                             998                 Algeria   \n",
       "3                            1600                  Angola   \n",
       "4                            4989               Argentina   \n",
       "\n",
       "   Total Waterway Coverage value Total Border Coverage  TotalBorder  \n",
       "0                           1200           Afghanistan       5987.0  \n",
       "1                             41               Albania        691.0  \n",
       "2                              0               Algeria       6734.0  \n",
       "3                           1300                Angola       5369.0  \n",
       "4                          11000             Argentina      11968.0  \n",
       "\n",
       "[5 rows x 60 columns]"
      ]
     },
     "execution_count": 4,
     "metadata": {},
     "output_type": "execute_result"
    }
   ],
   "source": [
    "df.head()"
   ]
  },
  {
   "cell_type": "code",
   "execution_count": 5,
   "id": "4f086544",
   "metadata": {},
   "outputs": [],
   "source": [
    "from sklearn.cluster import KMeans\n",
    "from sklearn.metrics import silhouette_score"
   ]
  },
  {
   "cell_type": "code",
   "execution_count": 6,
   "id": "5851d051",
   "metadata": {
    "scrolled": true
   },
   "outputs": [
    {
     "data": {
      "text/plain": [
       "Military Strength                           0\n",
       "Military Strength Power Index               0\n",
       "Aircraft Strength                           0\n",
       "Aircraft                                    0\n",
       "Fighter/Interceptor Strength                0\n",
       "FighterInterceptor                          0\n",
       "Attack Aircraft Strength                    0\n",
       "AttackAircraft                              0\n",
       "Transport Aircraft Fleet Strength           0\n",
       "Transport Aircraft Fleet Strength value     0\n",
       "Trainer Aircraft Fleet                      0\n",
       "Trainer Aircraft Fleet value                0\n",
       "Helicopter Fleet Strength                   0\n",
       "Helicopter Fleet Strength value             0\n",
       "Attack Helicopter Fleet Strength            0\n",
       "AttackHelicopter                            0\n",
       "Tank Strength                               0\n",
       "Tank                                        0\n",
       "AFV/APC Strength                            0\n",
       "AFV/APC Strength value                      0\n",
       "Self-Propelled Artillery Strength           0\n",
       "Artillery                                   0\n",
       "Towed Artillery Strength                    0\n",
       "Towed Artillery Strength value              0\n",
       "Rocket Projector Strength                   0\n",
       "Rocket Projector Strength value             0\n",
       "Navy Fleet Strengths                       14\n",
       "Navy Fleet Strengths value                 14\n",
       "Aircraft Carrier Fleet Strength            23\n",
       "Aircraft Carrier Fleet Strength value      23\n",
       "Submarine Fleet Strength                   23\n",
       "Submarine Fleet Strength value             23\n",
       "Destroyer Fleet Strength                   23\n",
       "Destroyer Fleet Strength value             23\n",
       "Frigate Fleet Strength                     23\n",
       "Frigate Fleet Strength value               23\n",
       "defense spending budget                     0\n",
       "defensespending                             0\n",
       "External Debt                               0\n",
       "External Debt value                         0\n",
       "Airport Totals                              0\n",
       "Airport Totals value                        0\n",
       "Oil Production                              0\n",
       "Oil Production value                        0\n",
       "Oil Consumption                             0\n",
       "Oil Consumption value                       0\n",
       "Proven Oil Reserves                         0\n",
       "Proven Oil Reserves value                   0\n",
       "Available Manpower                          0\n",
       "Available Manpower value                    0\n",
       "Total Population                            0\n",
       "Total Population value                      0\n",
       "Total Square Land Area                      0\n",
       "Total Square Land Area value                0\n",
       "Total Coastline Coverage                   29\n",
       "Total Coastline Coverage value             29\n",
       "Total Waterway Coverage                     0\n",
       "Total Waterway Coverage value               0\n",
       "Total Border Coverage                       9\n",
       "TotalBorder                                 9\n",
       "dtype: int64"
      ]
     },
     "execution_count": 6,
     "metadata": {},
     "output_type": "execute_result"
    }
   ],
   "source": [
    " df.isnull().sum()"
   ]
  },
  {
   "cell_type": "code",
   "execution_count": 9,
   "id": "32b3f030",
   "metadata": {},
   "outputs": [],
   "source": [
    "x=df[[\"FighterInterceptor\", \"AttackAircraft\", \"AttackHelicopter\", \"Tank\",\"Artillery\"]]"
   ]
  },
  {
   "cell_type": "code",
   "execution_count": 22,
   "id": "194a6982",
   "metadata": {},
   "outputs": [],
   "source": [
    "model=KMeans(n_clusters=4)"
   ]
  },
  {
   "cell_type": "code",
   "execution_count": 23,
   "id": "acc76da0",
   "metadata": {},
   "outputs": [],
   "source": [
    "model=model.fit(x)"
   ]
  },
  {
   "cell_type": "code",
   "execution_count": 24,
   "id": "4c45e9a8",
   "metadata": {},
   "outputs": [],
   "source": [
    "tahmin=model.predict(x)"
   ]
  },
  {
   "cell_type": "code",
   "execution_count": 25,
   "id": "e19ebe46",
   "metadata": {},
   "outputs": [],
   "source": [
    "tahmin=model.predict(x)"
   ]
  },
  {
   "cell_type": "code",
   "execution_count": 26,
   "id": "59bfc044",
   "metadata": {},
   "outputs": [
    {
     "data": {
      "text/plain": [
       "array([0, 0, 5, 6, 6, 0, 0, 0, 6, 0, 6, 6, 0, 0, 0, 6, 0, 6, 5, 0, 6, 0,\n",
       "       0, 0, 0, 6, 4, 0, 0, 5, 0, 0, 0, 0, 0, 7, 0, 0, 6, 0, 6, 0, 0, 6,\n",
       "       0, 5, 0, 0, 0, 7, 6, 2, 6, 0, 2, 0, 0, 5, 5, 6, 0, 6, 0, 0, 0, 6,\n",
       "       0, 6, 0, 0, 0, 0, 0, 0, 0, 6, 0, 5, 0, 6, 0, 0, 0, 0, 0, 0, 6, 8,\n",
       "       0, 0, 0, 2, 0, 0, 0, 0, 5, 0, 0, 0, 5, 3, 5, 6, 0, 0, 0, 0, 0, 0,\n",
       "       9, 0, 6, 0, 6, 0, 0, 6, 7, 5, 6, 0, 6, 0, 2, 6, 6, 2, 6, 6, 1, 0,\n",
       "       6, 6, 2, 6, 0, 0])"
      ]
     },
     "execution_count": 26,
     "metadata": {},
     "output_type": "execute_result"
    }
   ],
   "source": [
    "tahmin"
   ]
  },
  {
   "cell_type": "code",
   "execution_count": 27,
   "id": "dff63bdf",
   "metadata": {},
   "outputs": [],
   "source": [
    "x[\"cluster\"]=tahmin"
   ]
  },
  {
   "cell_type": "code",
   "execution_count": 28,
   "id": "880f298e",
   "metadata": {
    "scrolled": true
   },
   "outputs": [
    {
     "data": {
      "text/html": [
       "<div>\n",
       "<style scoped>\n",
       "    .dataframe tbody tr th:only-of-type {\n",
       "        vertical-align: middle;\n",
       "    }\n",
       "\n",
       "    .dataframe tbody tr th {\n",
       "        vertical-align: top;\n",
       "    }\n",
       "\n",
       "    .dataframe thead th {\n",
       "        text-align: right;\n",
       "    }\n",
       "</style>\n",
       "<table border=\"1\" class=\"dataframe\">\n",
       "  <thead>\n",
       "    <tr style=\"text-align: right;\">\n",
       "      <th></th>\n",
       "      <th>FighterInterceptor</th>\n",
       "      <th>AttackAircraft</th>\n",
       "      <th>AttackHelicopter</th>\n",
       "      <th>Tank</th>\n",
       "      <th>Artillery</th>\n",
       "      <th>cluster</th>\n",
       "    </tr>\n",
       "  </thead>\n",
       "  <tbody>\n",
       "    <tr>\n",
       "      <th>0</th>\n",
       "      <td>0</td>\n",
       "      <td>25</td>\n",
       "      <td>0</td>\n",
       "      <td>0</td>\n",
       "      <td>0</td>\n",
       "      <td>0</td>\n",
       "    </tr>\n",
       "    <tr>\n",
       "      <th>1</th>\n",
       "      <td>0</td>\n",
       "      <td>0</td>\n",
       "      <td>0</td>\n",
       "      <td>0</td>\n",
       "      <td>0</td>\n",
       "      <td>0</td>\n",
       "    </tr>\n",
       "    <tr>\n",
       "      <th>2</th>\n",
       "      <td>103</td>\n",
       "      <td>22</td>\n",
       "      <td>45</td>\n",
       "      <td>880</td>\n",
       "      <td>320</td>\n",
       "      <td>5</td>\n",
       "    </tr>\n",
       "    <tr>\n",
       "      <th>3</th>\n",
       "      <td>72</td>\n",
       "      <td>18</td>\n",
       "      <td>15</td>\n",
       "      <td>379</td>\n",
       "      <td>28</td>\n",
       "      <td>6</td>\n",
       "    </tr>\n",
       "    <tr>\n",
       "      <th>4</th>\n",
       "      <td>24</td>\n",
       "      <td>7</td>\n",
       "      <td>0</td>\n",
       "      <td>370</td>\n",
       "      <td>83</td>\n",
       "      <td>6</td>\n",
       "    </tr>\n",
       "  </tbody>\n",
       "</table>\n",
       "</div>"
      ],
      "text/plain": [
       "   FighterInterceptor  AttackAircraft  AttackHelicopter  Tank  Artillery  \\\n",
       "0                   0              25                 0     0          0   \n",
       "1                   0               0                 0     0          0   \n",
       "2                 103              22                45   880        320   \n",
       "3                  72              18                15   379         28   \n",
       "4                  24               7                 0   370         83   \n",
       "\n",
       "   cluster  \n",
       "0        0  \n",
       "1        0  \n",
       "2        5  \n",
       "3        6  \n",
       "4        6  "
      ]
     },
     "execution_count": 28,
     "metadata": {},
     "output_type": "execute_result"
    }
   ],
   "source": [
    "x.head()"
   ]
  },
  {
   "cell_type": "code",
   "execution_count": 29,
   "id": "9c74962e",
   "metadata": {},
   "outputs": [
    {
     "data": {
      "text/plain": [
       "0.572911966266754"
      ]
     },
     "execution_count": 29,
     "metadata": {},
     "output_type": "execute_result"
    }
   ],
   "source": [
    "silhouette_score(x,tahmin)"
   ]
  },
  {
   "cell_type": "code",
   "execution_count": 30,
   "id": "fba57718",
   "metadata": {},
   "outputs": [],
   "source": [
    "import matplotlib.pyplot as plt"
   ]
  },
  {
   "cell_type": "code",
   "execution_count": 33,
   "id": "1ab8ffbd",
   "metadata": {},
   "outputs": [
    {
     "data": {
      "image/png": "[encoded data removed]",
      "text/plain": [
       "<Figure size 720x432 with 2 Axes>"
      ]
     },
     "metadata": {
      "needs_background": "light"
     },
     "output_type": "display_data"
    }
   ],
   "source": [
    "plt.figure(figsize=(10,6))\n",
    "plt.scatter(x.Tank,x.Artillery,c=tahmin)\n",
    "plt.xlabel(\"Fighter Interceptor Strength value\")\n",
    "plt.ylabel(\"Artillery Strength value\")\n",
    "plt.colorbar()\n",
    "plt.grid()"
   ]
  },
  {
   "cell_type": "code",
   "execution_count": 34,
   "id": "d6dd7bb4",
   "metadata": {},
   "outputs": [
    {
     "name": "stdout",
     "output_type": "stream",
     "text": [
      "Cluster  2  score  0.8611789495830392\n",
      "Cluster  3  score  0.8286520518781744\n",
      "Cluster  4  score  0.7495599876586151\n",
      "Cluster  5  score  0.7612245313573943\n",
      "Cluster  6  score  0.6821488167727046\n",
      "Cluster  7  score  0.6866007771968952\n",
      "Cluster  8  score  0.5812611455135799\n",
      "Cluster  9  score  0.5799561697932047\n",
      "Cluster  10  score  0.572911966266754\n",
      "Cluster  11  score  0.5498911979804868\n"
     ]
    }
   ],
   "source": [
    "allscore=[]\n",
    "allclusters=[]\n",
    "uzakliklar=[]\n",
    "def clust(kactane):\n",
    "    for i in range(1,kactane+1):\n",
    "        i=i+1\n",
    "        model=KMeans(n_clusters=i)\n",
    "        model=model.fit(x)\n",
    "        tahmin=model.predict(x)\n",
    "        score=silhouette_score(x,tahmin)\n",
    "        uzaklik=model.inertia_\n",
    "        print(\"Cluster \",i,\" score \",score)\n",
    "        allscore.append(score)\n",
    "        allclusters.append(i)\n",
    "        uzakliklar.append(uzaklik)\n",
    "clust(10)"
   ]
  },
  {
   "cell_type": "code",
   "execution_count": 35,
   "id": "51597186",
   "metadata": {},
   "outputs": [
    {
     "data": {
      "text/plain": [
       "[<matplotlib.lines.Line2D at 0x19a8bde0e50>]"
      ]
     },
     "execution_count": 35,
     "metadata": {},
     "output_type": "execute_result"
    },
    {
     "data": {
      "image/png": "[encoded data removed]",
      "text/plain": [
       "<Figure size 432x288 with 1 Axes>"
      ]
     },
     "metadata": {
      "needs_background": "light"
     },
     "output_type": "display_data"
    }
   ],
   "source": [
    "plt.xlabel(\"k\")\n",
    "plt.ylabel(\"uzakliklar\")\n",
    "plt.plot(allclusters,uzakliklar)"
   ]
  },
  {
   "cell_type": "code",
   "execution_count": null,
   "id": "0a0faf85",
   "metadata": {},
   "outputs": [],
   "source": []
  }
 ],
 "metadata": {
  "kernelspec": {
   "display_name": "Python 3 (ipykernel)",
   "language": "python",
   "name": "python3"
  },
  "language_info": {
   "codemirror_mode": {
    "name": "ipython",
    "version": 3
   },
   "file_extension": ".py",
   "mimetype": "text/x-python",
   "name": "python",
   "nbconvert_exporter": "python",
   "pygments_lexer": "ipython3",
   "version": "3.9.12"
  }
 },
 "nbformat": 4,
 "nbformat_minor": 5
}
