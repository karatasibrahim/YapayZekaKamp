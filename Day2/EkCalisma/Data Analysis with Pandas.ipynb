{
 "cells": [
  {
   "cell_type": "markdown",
   "metadata": {},
   "source": [
    "# Data Analysis with Pandas - Problem Set\n",
    "\n",
    "\n",
    "#### Reading in Data\n",
    "\n",
    "1. Read in the comma-separated file \"client_list.csv\". Assign as variable `df1`.\n",
    "2. Read in the delimted file \"client_list.table\". Assign as variable as `df2`.\n",
    "3. Read in the fixed-width file \"client_list.txt\". Assign as variable `df3`\n",
    "4. Read in the comma-separated file \"client_list.csv\", skip the first 3 rows, and ignore the header. Do not assign to variable (just return a view).\n",
    "5. Read in the comma-separated file \"client_list.csv\". Set the column headers in all caps. Assign as variable `df`.\n",
    "6. Read in the comma-separated file \"client_list_practice.csv\" and only extract the columns [\"FIRST_NAME\",\"AGE\",\"EYE_COLOR\"]. Do not assign to a variable.\n",
    "\n",
    "\n",
    "\n",
    "\n",
    "\n"
   ]
  },
  {
   "cell_type": "markdown",
   "metadata": {},
   "source": [
    "#### Slicing a Data Set\n",
    "\n",
    "7. Slice rows 5 through 11 of `df`. Can you provide two ways of doing this?\n",
    "8. Return only the columns ['LAST_NAME','AGE','HAIR_COLOR'] for `df`. Can you provide two ways of doing this?\n",
    "9. Combine problems 1 and 2: return rows 5 though 11 and columns  ['LAST_NAME','AGE','HAIR_COLOR'] for `df`. Can you provide two ways of doing this?\n",
    "\n",
    "\n"
   ]
  },
  {
   "cell_type": "markdown",
   "metadata": {},
   "source": [
    "#### Simple Queries\n",
    "\n",
    "10. Find the subset of `df` where the client's last name is \"Smith\".\n",
    "11. Find the subset of `df` where the client's hair color is not black.\n",
    "12. Find the subset of `df` where the client's hair color is red and reset the values to \"ginger\".\n",
    "\n",
    "\n"
   ]
  },
  {
   "cell_type": "markdown",
   "metadata": {},
   "source": [
    "#### Complex Queries\n",
    "\n",
    "13. Find the subset of `df` where the clients are females older than 30 years.\n",
    "14. Repeat problem 1, but return only the hair color and eye color.\n",
    "15. Find the unique combination of hair and eye color for women older than 25 years.\n",
    "\n"
   ]
  },
  {
   "cell_type": "markdown",
   "metadata": {},
   "source": [
    "\n",
    "#### Additional Dataframe Operations\n",
    "\n",
    "16. Perform a `merge` using \"client_list.csv\" and \"customer_id_list.csv\". Assign the resulting dataframe as `clients`.\n",
    "17. Perform a `merge` using `clients` and \"purchase_log.csv\" and limit the subset to only clients who made purchases. Assign the resulting dataframe as `detailed_sales`.\n",
    "18. Use `groupby` to find the client who spent the most money on purchases. Determine how much he/she spent. HINT: save the intermediate dataframe from using `groupby` as `spenders` before applying slicing to determine the client who spent the most money on purchases.\n",
    "19. (BONUS) Modify the answer to problem 3 slightly to determine exactly what items where purchased by the top spending client."
   ]
  },
  {
   "cell_type": "markdown",
   "metadata": {
    "collapsed": true
   },
   "source": [
    "#### Writing Files\n",
    "\n",
    "20. Save `detailed_sales` as a csv file named \"df_out.csv\" with no indices.\n",
    "21. Save `detailed_sales` to a pickle file named \"df_out.p\""
   ]
  },
  {
   "cell_type": "code",
   "execution_count": null,
   "metadata": {
    "collapsed": true
   },
   "outputs": [],
   "source": []
  }
 ],
 "metadata": {
  "anaconda-cloud": {},
  "kernelspec": {
   "display_name": "Python 3 (ipykernel)",
   "language": "python",
   "name": "python3"
  },
  "language_info": {
   "codemirror_mode": {
    "name": "ipython",
    "version": 3
   },
   "file_extension": ".py",
   "mimetype": "text/x-python",
   "name": "python",
   "nbconvert_exporter": "python",
   "pygments_lexer": "ipython3",
   "version": "3.9.12"
  }
 },
 "nbformat": 4,
 "nbformat_minor": 1
}
